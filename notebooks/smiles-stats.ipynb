{
 "cells": [
  {
   "cell_type": "code",
   "execution_count": 106,
   "id": "0e909a63",
   "metadata": {},
   "outputs": [],
   "source": [
    "import warnings\n",
    "warnings.filterwarnings('ignore')"
   ]
  },
  {
   "cell_type": "code",
   "execution_count": 107,
   "id": "a39fefee",
   "metadata": {},
   "outputs": [],
   "source": [
    "import pandas as pd"
   ]
  },
  {
   "cell_type": "code",
   "execution_count": 108,
   "id": "73d9a615",
   "metadata": {},
   "outputs": [],
   "source": [
    "import matplotlib\n",
    "import matplotlib.pyplot as plt\n",
    "%matplotlib inline"
   ]
  },
  {
   "cell_type": "code",
   "execution_count": 109,
   "id": "3ee07745",
   "metadata": {},
   "outputs": [],
   "source": [
    "import nltk.collocations as collocations\n",
    "from nltk.util import ngrams\n",
    "from nltk import FreqDist"
   ]
  },
  {
   "cell_type": "code",
   "execution_count": 110,
   "id": "e49385c8",
   "metadata": {},
   "outputs": [],
   "source": [
    "df = pd.read_csv('../data/all-smi2smi.tsv', sep='\\t')"
   ]
  },
  {
   "cell_type": "code",
   "execution_count": 111,
   "id": "a6152936",
   "metadata": {},
   "outputs": [],
   "source": [
    "df['len'] = df.smiles.apply(lambda x: len(x))"
   ]
  },
  {
   "cell_type": "code",
   "execution_count": 47,
   "id": "ea060d40",
   "metadata": {},
   "outputs": [
    {
     "data": {
      "text/html": [
       "<div>\n",
       "<style scoped>\n",
       "    .dataframe tbody tr th:only-of-type {\n",
       "        vertical-align: middle;\n",
       "    }\n",
       "\n",
       "    .dataframe tbody tr th {\n",
       "        vertical-align: top;\n",
       "    }\n",
       "\n",
       "    .dataframe thead th {\n",
       "        text-align: right;\n",
       "    }\n",
       "</style>\n",
       "<table border=\"1\" class=\"dataframe\">\n",
       "  <thead>\n",
       "    <tr style=\"text-align: right;\">\n",
       "      <th></th>\n",
       "      <th>smiles</th>\n",
       "      <th>smiles-out</th>\n",
       "      <th>len</th>\n",
       "    </tr>\n",
       "  </thead>\n",
       "  <tbody>\n",
       "    <tr>\n",
       "      <th>0</th>\n",
       "      <td>n1c2c(c(O)cc1)cc(cc2)C</td>\n",
       "      <td>n1c2c(c(O)cc1)cc(cc2)C</td>\n",
       "      <td>22</td>\n",
       "    </tr>\n",
       "    <tr>\n",
       "      <th>1</th>\n",
       "      <td>Brc1ccc(cc1)C(OCCCO)CC</td>\n",
       "      <td>Brc1ccc(cc1)C(OCCCO)CC</td>\n",
       "      <td>22</td>\n",
       "    </tr>\n",
       "    <tr>\n",
       "      <th>2</th>\n",
       "      <td>C1(=O)C(=O)C(=C(C1=O)O)O</td>\n",
       "      <td>C1(=O)C(=O)C(=C(C1=O)O)O</td>\n",
       "      <td>24</td>\n",
       "    </tr>\n",
       "    <tr>\n",
       "      <th>3</th>\n",
       "      <td>c12c(c(CP(=O)(OCC)OCC)c3c(cccc3)c1)cccc2</td>\n",
       "      <td>c12c(c(CP(=O)(OCC)OCC)c3c(cccc3)c1)cccc2</td>\n",
       "      <td>40</td>\n",
       "    </tr>\n",
       "    <tr>\n",
       "      <th>4</th>\n",
       "      <td>O(P(=O)(OCC)Cc1cccc2c1cccc2)CC</td>\n",
       "      <td>O(P(=O)(OCC)Cc1cccc2c1cccc2)CC</td>\n",
       "      <td>30</td>\n",
       "    </tr>\n",
       "    <tr>\n",
       "      <th>...</th>\n",
       "      <td>...</td>\n",
       "      <td>...</td>\n",
       "      <td>...</td>\n",
       "    </tr>\n",
       "    <tr>\n",
       "      <th>14124</th>\n",
       "      <td>C1Cc2cc(ccc2NC1)C(=O)O</td>\n",
       "      <td>C1Cc2cc(ccc2NC1)C(=O)O</td>\n",
       "      <td>22</td>\n",
       "    </tr>\n",
       "    <tr>\n",
       "      <th>14125</th>\n",
       "      <td>CNCc1c2c(c(Br)s1)OCCO2</td>\n",
       "      <td>CNCc1c2c(c(Br)s1)OCCO2</td>\n",
       "      <td>22</td>\n",
       "    </tr>\n",
       "    <tr>\n",
       "      <th>14126</th>\n",
       "      <td>C1C2CC3(CC1CC(C2)(C3)O)C(=O)O</td>\n",
       "      <td>C1C2CC3(CC1CC(C2)(C3)O)C(=O)O</td>\n",
       "      <td>29</td>\n",
       "    </tr>\n",
       "    <tr>\n",
       "      <th>14127</th>\n",
       "      <td>c1cc2c(cc1Br)c(cc(Cl)n2)C(=O)Cl</td>\n",
       "      <td>c1cc2c(cc1Br)c(cc(Cl)n2)C(=O)Cl</td>\n",
       "      <td>31</td>\n",
       "    </tr>\n",
       "    <tr>\n",
       "      <th>14128</th>\n",
       "      <td>C1Cc2cc(ccc2C(=O)C1)N</td>\n",
       "      <td>C1Cc2cc(ccc2C(=O)C1)N</td>\n",
       "      <td>21</td>\n",
       "    </tr>\n",
       "  </tbody>\n",
       "</table>\n",
       "<p>14129 rows × 3 columns</p>\n",
       "</div>"
      ],
      "text/plain": [
       "                                         smiles  \\\n",
       "0                        n1c2c(c(O)cc1)cc(cc2)C   \n",
       "1                        Brc1ccc(cc1)C(OCCCO)CC   \n",
       "2                      C1(=O)C(=O)C(=C(C1=O)O)O   \n",
       "3      c12c(c(CP(=O)(OCC)OCC)c3c(cccc3)c1)cccc2   \n",
       "4                O(P(=O)(OCC)Cc1cccc2c1cccc2)CC   \n",
       "...                                         ...   \n",
       "14124                    C1Cc2cc(ccc2NC1)C(=O)O   \n",
       "14125                    CNCc1c2c(c(Br)s1)OCCO2   \n",
       "14126             C1C2CC3(CC1CC(C2)(C3)O)C(=O)O   \n",
       "14127           c1cc2c(cc1Br)c(cc(Cl)n2)C(=O)Cl   \n",
       "14128                     C1Cc2cc(ccc2C(=O)C1)N   \n",
       "\n",
       "                                     smiles-out  len  \n",
       "0                        n1c2c(c(O)cc1)cc(cc2)C   22  \n",
       "1                        Brc1ccc(cc1)C(OCCCO)CC   22  \n",
       "2                      C1(=O)C(=O)C(=C(C1=O)O)O   24  \n",
       "3      c12c(c(CP(=O)(OCC)OCC)c3c(cccc3)c1)cccc2   40  \n",
       "4                O(P(=O)(OCC)Cc1cccc2c1cccc2)CC   30  \n",
       "...                                         ...  ...  \n",
       "14124                    C1Cc2cc(ccc2NC1)C(=O)O   22  \n",
       "14125                    CNCc1c2c(c(Br)s1)OCCO2   22  \n",
       "14126             C1C2CC3(CC1CC(C2)(C3)O)C(=O)O   29  \n",
       "14127           c1cc2c(cc1Br)c(cc(Cl)n2)C(=O)Cl   31  \n",
       "14128                     C1Cc2cc(ccc2C(=O)C1)N   21  \n",
       "\n",
       "[14129 rows x 3 columns]"
      ]
     },
     "execution_count": 47,
     "metadata": {},
     "output_type": "execute_result"
    }
   ],
   "source": [
    "df"
   ]
  },
  {
   "cell_type": "code",
   "execution_count": 11,
   "id": "19ad142f",
   "metadata": {},
   "outputs": [
    {
     "data": {
      "text/html": [
       "<div>\n",
       "<style scoped>\n",
       "    .dataframe tbody tr th:only-of-type {\n",
       "        vertical-align: middle;\n",
       "    }\n",
       "\n",
       "    .dataframe tbody tr th {\n",
       "        vertical-align: top;\n",
       "    }\n",
       "\n",
       "    .dataframe thead th {\n",
       "        text-align: right;\n",
       "    }\n",
       "</style>\n",
       "<table border=\"1\" class=\"dataframe\">\n",
       "  <thead>\n",
       "    <tr style=\"text-align: right;\">\n",
       "      <th></th>\n",
       "      <th>len</th>\n",
       "    </tr>\n",
       "  </thead>\n",
       "  <tbody>\n",
       "    <tr>\n",
       "      <th>count</th>\n",
       "      <td>14129.000000</td>\n",
       "    </tr>\n",
       "    <tr>\n",
       "      <th>mean</th>\n",
       "      <td>43.211905</td>\n",
       "    </tr>\n",
       "    <tr>\n",
       "      <th>std</th>\n",
       "      <td>25.930148</td>\n",
       "    </tr>\n",
       "    <tr>\n",
       "      <th>min</th>\n",
       "      <td>5.000000</td>\n",
       "    </tr>\n",
       "    <tr>\n",
       "      <th>25%</th>\n",
       "      <td>23.000000</td>\n",
       "    </tr>\n",
       "    <tr>\n",
       "      <th>50%</th>\n",
       "      <td>36.000000</td>\n",
       "    </tr>\n",
       "    <tr>\n",
       "      <th>75%</th>\n",
       "      <td>59.000000</td>\n",
       "    </tr>\n",
       "    <tr>\n",
       "      <th>max</th>\n",
       "      <td>323.000000</td>\n",
       "    </tr>\n",
       "  </tbody>\n",
       "</table>\n",
       "</div>"
      ],
      "text/plain": [
       "                len\n",
       "count  14129.000000\n",
       "mean      43.211905\n",
       "std       25.930148\n",
       "min        5.000000\n",
       "25%       23.000000\n",
       "50%       36.000000\n",
       "75%       59.000000\n",
       "max      323.000000"
      ]
     },
     "execution_count": 11,
     "metadata": {},
     "output_type": "execute_result"
    }
   ],
   "source": [
    "df.describe()"
   ]
  },
  {
   "cell_type": "code",
   "execution_count": 14,
   "id": "b8a97e1f",
   "metadata": {},
   "outputs": [],
   "source": [
    "corpus = []\n",
    "for i, row in df.iterrows():\n",
    "    smi = list(row['smiles'])\n",
    "    corpus = corpus + smi"
   ]
  },
  {
   "cell_type": "code",
   "execution_count": 62,
   "id": "322a4975",
   "metadata": {},
   "outputs": [
    {
     "data": {
      "text/plain": [
       "['n', '1', 'c', '2', 'c', '(', 'c', '(', 'O', ')']"
      ]
     },
     "execution_count": 62,
     "metadata": {},
     "output_type": "execute_result"
    }
   ],
   "source": [
    "corpus[0:10]"
   ]
  },
  {
   "cell_type": "code",
   "execution_count": 99,
   "id": "50a70db5",
   "metadata": {},
   "outputs": [],
   "source": [
    "unigrams = ngrams(corpus,1)\n",
    "uni_dist = FreqDist(unigrams).most_common(80)"
   ]
  },
  {
   "cell_type": "code",
   "execution_count": 100,
   "id": "b1f12c86",
   "metadata": {},
   "outputs": [],
   "source": [
    "bigrams = ngrams(corpus,2)\n",
    "bi_dist = FreqDist(bigrams).most_common(80)"
   ]
  },
  {
   "cell_type": "code",
   "execution_count": 101,
   "id": "092e3091",
   "metadata": {},
   "outputs": [],
   "source": [
    "trigrams  = ngrams(corpus,3)\n",
    "tri_dist = FreqDist(trigrams).most_common(80)"
   ]
  },
  {
   "cell_type": "code",
   "execution_count": 102,
   "id": "975abc09",
   "metadata": {},
   "outputs": [],
   "source": [
    "d_uni = pd.Series(dict(uni_dist))\n",
    "d_bi  = pd.Series(dict(bi_dist))\n",
    "d_tri = pd.Series(dict(tri_dist))"
   ]
  },
  {
   "cell_type": "code",
   "execution_count": 103,
   "id": "d20022cd",
   "metadata": {},
   "outputs": [
    {
     "data": {
      "text/plain": [
       "<matplotlib.axes._subplots.AxesSubplot at 0x7f6e118936a0>"
      ]
     },
     "execution_count": 103,
     "metadata": {},
     "output_type": "execute_result"
    },
    {
     "data": {
      "image/png": "[encoded data removed]",
      "text/plain": [
       "<Figure size 1440x720 with 1 Axes>"
      ]
     },
     "metadata": {
      "needs_background": "light"
     },
     "output_type": "display_data"
    }
   ],
   "source": [
    "d_uni.plot(kind='bar', figsize=(20,10), rot=90)"
   ]
  },
  {
   "cell_type": "code",
   "execution_count": 104,
   "id": "8740e2a9",
   "metadata": {},
   "outputs": [
    {
     "data": {
      "text/plain": [
       "<matplotlib.axes._subplots.AxesSubplot at 0x7f6e1179ebe0>"
      ]
     },
     "execution_count": 104,
     "metadata": {},
     "output_type": "execute_result"
    },
    {
     "data": {
      "image/png": "[encoded data removed]",
      "text/plain": [
       "<Figure size 1440x720 with 1 Axes>"
      ]
     },
     "metadata": {
      "needs_background": "light"
     },
     "output_type": "display_data"
    }
   ],
   "source": [
    "d_bi.plot(kind='bar', figsize=(20,10), rot=90)"
   ]
  },
  {
   "cell_type": "code",
   "execution_count": 105,
   "id": "db5aa6f2",
   "metadata": {},
   "outputs": [
    {
     "data": {
      "text/plain": [
       "<matplotlib.axes._subplots.AxesSubplot at 0x7f6e11697c18>"
      ]
     },
     "execution_count": 105,
     "metadata": {},
     "output_type": "execute_result"
    },
    {
     "data": {
      "image/png": "[encoded data removed]",
      "text/plain": [
       "<Figure size 1440x720 with 1 Axes>"
      ]
     },
     "metadata": {
      "needs_background": "light"
     },
     "output_type": "display_data"
    }
   ],
   "source": [
    "d_tri.plot(kind='bar', figsize=(20,10), rot=90)"
   ]
  },
  {
   "cell_type": "code",
   "execution_count": 48,
   "id": "c7c35bd7",
   "metadata": {},
   "outputs": [
    {
     "data": {
      "text/plain": [
       "<matplotlib.axes._subplots.AxesSubplot at 0x7f6e1ace2ba8>"
      ]
     },
     "execution_count": 48,
     "metadata": {},
     "output_type": "execute_result"
    },
    {
     "data": {
      "image/png": "[encoded data removed]",
      "text/plain": [
       "<Figure size 1440x720 with 1 Axes>"
      ]
     },
     "metadata": {
      "needs_background": "light"
     },
     "output_type": "display_data"
    }
   ],
   "source": [
    "df.len.plot(kind='hist', figsize=(20,10), rot=90)"
   ]
  },
  {
   "cell_type": "code",
   "execution_count": null,
   "id": "5d095db7",
   "metadata": {},
   "outputs": [],
   "source": []
  }
 ],
 "metadata": {
  "kernelspec": {
   "display_name": "py36",
   "language": "python",
   "name": "py36"
  },
  "language_info": {
   "codemirror_mode": {
    "name": "ipython",
    "version": 3
   },
   "file_extension": ".py",
   "mimetype": "text/x-python",
   "name": "python",
   "nbconvert_exporter": "python",
   "pygments_lexer": "ipython3",
   "version": "3.7.2"
  }
 },
 "nbformat": 4,
 "nbformat_minor": 5
}
