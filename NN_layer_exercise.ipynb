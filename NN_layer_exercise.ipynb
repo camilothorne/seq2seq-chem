{
  "nbformat": 4,
  "nbformat_minor": 0,
  "metadata": {
    "colab": {
      "provenance": [],
      "gpuType": "T4",
      "collapsed_sections": [
        "2tYgk8mObXpy",
        "2kU9Pps3iwXG",
        "nf8f3STXM0L7",
        "9VZgnkR9Kfl0",
        "eNLkkA0HczYE",
        "-MB039fdO1T_"
      ],
      "authorship_tag": "ABX9TyON4ot8smcyS8/zlD3Eet7Z",
      "include_colab_link": true
    },
    "kernelspec": {
      "name": "python3",
      "display_name": "Python 3"
    },
    "language_info": {
      "name": "python"
    },
    "accelerator": "GPU",
    "widgets": {
      "application/vnd.jupyter.widget-state+json": {
        "5e1e00c8877f40978988dff205b4e529": {
          "model_module": "@jupyter-widgets/controls",
          "model_name": "HBoxModel",
          "model_module_version": "1.5.0",
          "state": {
            "_dom_classes": [],
            "_model_module": "@jupyter-widgets/controls",
            "_model_module_version": "1.5.0",
            "_model_name": "HBoxModel",
            "_view_count": null,
            "_view_module": "@jupyter-widgets/controls",
            "_view_module_version": "1.5.0",
            "_view_name": "HBoxView",
            "box_style": "",
            "children": [
              "IPY_MODEL_8b79a14d61d74fe9bc2a3e8b6cbaf047",
              "IPY_MODEL_3b1a7c67015e46369471f393389b4c08",
              "IPY_MODEL_a0b9961f9723485ab9663a6c59f01182"
            ],
            "layout": "IPY_MODEL_6519c29af3ca40fab70082b99d4e0165"
          }
        },
        "8b79a14d61d74fe9bc2a3e8b6cbaf047": {
          "model_module": "@jupyter-widgets/controls",
          "model_name": "HTMLModel",
          "model_module_version": "1.5.0",
          "state": {
            "_dom_classes": [],
            "_model_module": "@jupyter-widgets/controls",
            "_model_module_version": "1.5.0",
            "_model_name": "HTMLModel",
            "_view_count": null,
            "_view_module": "@jupyter-widgets/controls",
            "_view_module_version": "1.5.0",
            "_view_name": "HTMLView",
            "description": "",
            "description_tooltip": null,
            "layout": "IPY_MODEL_d947eae4881e4baeb8b03b0e46d55070",
            "placeholder": "​",
            "style": "IPY_MODEL_c41f8fa7f7a24cdcb80bded161544528",
            "value": "100%"
          }
        },
        "3b1a7c67015e46369471f393389b4c08": {
          "model_module": "@jupyter-widgets/controls",
          "model_name": "FloatProgressModel",
          "model_module_version": "1.5.0",
          "state": {
            "_dom_classes": [],
            "_model_module": "@jupyter-widgets/controls",
            "_model_module_version": "1.5.0",
            "_model_name": "FloatProgressModel",
            "_view_count": null,
            "_view_module": "@jupyter-widgets/controls",
            "_view_module_version": "1.5.0",
            "_view_name": "ProgressView",
            "bar_style": "success",
            "description": "",
            "description_tooltip": null,
            "layout": "IPY_MODEL_ba50264994f447acbe33f49f6afcfae5",
            "max": 100,
            "min": 0,
            "orientation": "horizontal",
            "style": "IPY_MODEL_c7f711c748214773ac95b8220f136278",
            "value": 100
          }
        },
        "a0b9961f9723485ab9663a6c59f01182": {
          "model_module": "@jupyter-widgets/controls",
          "model_name": "HTMLModel",
          "model_module_version": "1.5.0",
          "state": {
            "_dom_classes": [],
            "_model_module": "@jupyter-widgets/controls",
            "_model_module_version": "1.5.0",
            "_model_name": "HTMLModel",
            "_view_count": null,
            "_view_module": "@jupyter-widgets/controls",
            "_view_module_version": "1.5.0",
            "_view_name": "HTMLView",
            "description": "",
            "description_tooltip": null,
            "layout": "IPY_MODEL_6091a73c6c134655b96089343745e429",
            "placeholder": "​",
            "style": "IPY_MODEL_a6e1dba3b8db49c4a42f1f596f32d7c0",
            "value": " 100/100 [01:25&lt;00:00,  1.11it/s]"
          }
        },
        "6519c29af3ca40fab70082b99d4e0165": {
          "model_module": "@jupyter-widgets/base",
          "model_name": "LayoutModel",
          "model_module_version": "1.2.0",
          "state": {
            "_model_module": "@jupyter-widgets/base",
            "_model_module_version": "1.2.0",
            "_model_name": "LayoutModel",
            "_view_count": null,
            "_view_module": "@jupyter-widgets/base",
            "_view_module_version": "1.2.0",
            "_view_name": "LayoutView",
            "align_content": null,
            "align_items": null,
            "align_self": null,
            "border": null,
            "bottom": null,
            "display": null,
            "flex": null,
            "flex_flow": null,
            "grid_area": null,
            "grid_auto_columns": null,
            "grid_auto_flow": null,
            "grid_auto_rows": null,
            "grid_column": null,
            "grid_gap": null,
            "grid_row": null,
            "grid_template_areas": null,
            "grid_template_columns": null,
            "grid_template_rows": null,
            "height": null,
            "justify_content": null,
            "justify_items": null,
            "left": null,
            "margin": null,
            "max_height": null,
            "max_width": null,
            "min_height": null,
            "min_width": null,
            "object_fit": null,
            "object_position": null,
            "order": null,
            "overflow": null,
            "overflow_x": null,
            "overflow_y": null,
            "padding": null,
            "right": null,
            "top": null,
            "visibility": null,
            "width": null
          }
        },
        "d947eae4881e4baeb8b03b0e46d55070": {
          "model_module": "@jupyter-widgets/base",
          "model_name": "LayoutModel",
          "model_module_version": "1.2.0",
          "state": {
            "_model_module": "@jupyter-widgets/base",
            "_model_module_version": "1.2.0",
            "_model_name": "LayoutModel",
            "_view_count": null,
            "_view_module": "@jupyter-widgets/base",
            "_view_module_version": "1.2.0",
            "_view_name": "LayoutView",
            "align_content": null,
            "align_items": null,
            "align_self": null,
            "border": null,
            "bottom": null,
            "display": null,
            "flex": null,
            "flex_flow": null,
            "grid_area": null,
            "grid_auto_columns": null,
            "grid_auto_flow": null,
            "grid_auto_rows": null,
            "grid_column": null,
            "grid_gap": null,
            "grid_row": null,
            "grid_template_areas": null,
            "grid_template_columns": null,
            "grid_template_rows": null,
            "height": null,
            "justify_content": null,
            "justify_items": null,
            "left": null,
            "margin": null,
            "max_height": null,
            "max_width": null,
            "min_height": null,
            "min_width": null,
            "object_fit": null,
            "object_position": null,
            "order": null,
            "overflow": null,
            "overflow_x": null,
            "overflow_y": null,
            "padding": null,
            "right": null,
            "top": null,
            "visibility": null,
            "width": null
          }
        },
        "c41f8fa7f7a24cdcb80bded161544528": {
          "model_module": "@jupyter-widgets/controls",
          "model_name": "DescriptionStyleModel",
          "model_module_version": "1.5.0",
          "state": {
            "_model_module": "@jupyter-widgets/controls",
            "_model_module_version": "1.5.0",
            "_model_name": "DescriptionStyleModel",
            "_view_count": null,
            "_view_module": "@jupyter-widgets/base",
            "_view_module_version": "1.2.0",
            "_view_name": "StyleView",
            "description_width": ""
          }
        },
        "ba50264994f447acbe33f49f6afcfae5": {
          "model_module": "@jupyter-widgets/base",
          "model_name": "LayoutModel",
          "model_module_version": "1.2.0",
          "state": {
            "_model_module": "@jupyter-widgets/base",
            "_model_module_version": "1.2.0",
            "_model_name": "LayoutModel",
            "_view_count": null,
            "_view_module": "@jupyter-widgets/base",
            "_view_module_version": "1.2.0",
            "_view_name": "LayoutView",
            "align_content": null,
            "align_items": null,
            "align_self": null,
            "border": null,
            "bottom": null,
            "display": null,
            "flex": null,
            "flex_flow": null,
            "grid_area": null,
            "grid_auto_columns": null,
            "grid_auto_flow": null,
            "grid_auto_rows": null,
            "grid_column": null,
            "grid_gap": null,
            "grid_row": null,
            "grid_template_areas": null,
            "grid_template_columns": null,
            "grid_template_rows": null,
            "height": null,
            "justify_content": null,
            "justify_items": null,
            "left": null,
            "margin": null,
            "max_height": null,
            "max_width": null,
            "min_height": null,
            "min_width": null,
            "object_fit": null,
            "object_position": null,
            "order": null,
            "overflow": null,
            "overflow_x": null,
            "overflow_y": null,
            "padding": null,
            "right": null,
            "top": null,
            "visibility": null,
            "width": null
          }
        },
        "c7f711c748214773ac95b8220f136278": {
          "model_module": "@jupyter-widgets/controls",
          "model_name": "ProgressStyleModel",
          "model_module_version": "1.5.0",
          "state": {
            "_model_module": "@jupyter-widgets/controls",
            "_model_module_version": "1.5.0",
            "_model_name": "ProgressStyleModel",
            "_view_count": null,
            "_view_module": "@jupyter-widgets/base",
            "_view_module_version": "1.2.0",
            "_view_name": "StyleView",
            "bar_color": null,
            "description_width": ""
          }
        },
        "6091a73c6c134655b96089343745e429": {
          "model_module": "@jupyter-widgets/base",
          "model_name": "LayoutModel",
          "model_module_version": "1.2.0",
          "state": {
            "_model_module": "@jupyter-widgets/base",
            "_model_module_version": "1.2.0",
            "_model_name": "LayoutModel",
            "_view_count": null,
            "_view_module": "@jupyter-widgets/base",
            "_view_module_version": "1.2.0",
            "_view_name": "LayoutView",
            "align_content": null,
            "align_items": null,
            "align_self": null,
            "border": null,
            "bottom": null,
            "display": null,
            "flex": null,
            "flex_flow": null,
            "grid_area": null,
            "grid_auto_columns": null,
            "grid_auto_flow": null,
            "grid_auto_rows": null,
            "grid_column": null,
            "grid_gap": null,
            "grid_row": null,
            "grid_template_areas": null,
            "grid_template_columns": null,
            "grid_template_rows": null,
            "height": null,
            "justify_content": null,
            "justify_items": null,
            "left": null,
            "margin": null,
            "max_height": null,
            "max_width": null,
            "min_height": null,
            "min_width": null,
            "object_fit": null,
            "object_position": null,
            "order": null,
            "overflow": null,
            "overflow_x": null,
            "overflow_y": null,
            "padding": null,
            "right": null,
            "top": null,
            "visibility": null,
            "width": null
          }
        },
        "a6e1dba3b8db49c4a42f1f596f32d7c0": {
          "model_module": "@jupyter-widgets/controls",
          "model_name": "DescriptionStyleModel",
          "model_module_version": "1.5.0",
          "state": {
            "_model_module": "@jupyter-widgets/controls",
            "_model_module_version": "1.5.0",
            "_model_name": "DescriptionStyleModel",
            "_view_count": null,
            "_view_module": "@jupyter-widgets/base",
            "_view_module_version": "1.2.0",
            "_view_name": "StyleView",
            "description_width": ""
          }
        },
        "db3eb455e85346c5ba3bb0d05bd146ae": {
          "model_module": "@jupyter-widgets/controls",
          "model_name": "HBoxModel",
          "model_module_version": "1.5.0",
          "state": {
            "_dom_classes": [],
            "_model_module": "@jupyter-widgets/controls",
            "_model_module_version": "1.5.0",
            "_model_name": "HBoxModel",
            "_view_count": null,
            "_view_module": "@jupyter-widgets/controls",
            "_view_module_version": "1.5.0",
            "_view_name": "HBoxView",
            "box_style": "",
            "children": [
              "IPY_MODEL_160610a0cd20472099fa55285e574bd7",
              "IPY_MODEL_884793d746864ba18aee6b60970684bd",
              "IPY_MODEL_718ebe74acd64d0ea4a661ba89977f34"
            ],
            "layout": "IPY_MODEL_558499851a68493e866483c787f4f76a"
          }
        },
        "160610a0cd20472099fa55285e574bd7": {
          "model_module": "@jupyter-widgets/controls",
          "model_name": "HTMLModel",
          "model_module_version": "1.5.0",
          "state": {
            "_dom_classes": [],
            "_model_module": "@jupyter-widgets/controls",
            "_model_module_version": "1.5.0",
            "_model_name": "HTMLModel",
            "_view_count": null,
            "_view_module": "@jupyter-widgets/controls",
            "_view_module_version": "1.5.0",
            "_view_name": "HTMLView",
            "description": "",
            "description_tooltip": null,
            "layout": "IPY_MODEL_0cd8ebdcd00b481884b8362fc9904124",
            "placeholder": "​",
            "style": "IPY_MODEL_e6effa4289974d55b0143d7096217c76",
            "value": "100%"
          }
        },
        "884793d746864ba18aee6b60970684bd": {
          "model_module": "@jupyter-widgets/controls",
          "model_name": "FloatProgressModel",
          "model_module_version": "1.5.0",
          "state": {
            "_dom_classes": [],
            "_model_module": "@jupyter-widgets/controls",
            "_model_module_version": "1.5.0",
            "_model_name": "FloatProgressModel",
            "_view_count": null,
            "_view_module": "@jupyter-widgets/controls",
            "_view_module_version": "1.5.0",
            "_view_name": "ProgressView",
            "bar_style": "success",
            "description": "",
            "description_tooltip": null,
            "layout": "IPY_MODEL_d9dc5008e4d04d60ac9949fe70cb24c6",
            "max": 100,
            "min": 0,
            "orientation": "horizontal",
            "style": "IPY_MODEL_bb429d4941b740919fb7bed1e0b94c37",
            "value": 100
          }
        },
        "718ebe74acd64d0ea4a661ba89977f34": {
          "model_module": "@jupyter-widgets/controls",
          "model_name": "HTMLModel",
          "model_module_version": "1.5.0",
          "state": {
            "_dom_classes": [],
            "_model_module": "@jupyter-widgets/controls",
            "_model_module_version": "1.5.0",
            "_model_name": "HTMLModel",
            "_view_count": null,
            "_view_module": "@jupyter-widgets/controls",
            "_view_module_version": "1.5.0",
            "_view_name": "HTMLView",
            "description": "",
            "description_tooltip": null,
            "layout": "IPY_MODEL_09ccdceaf05f4d0d888f1b13cd416f8b",
            "placeholder": "​",
            "style": "IPY_MODEL_6caa2eb1915840a18b63bf7860298f79",
            "value": " 100/100 [01:45&lt;00:00,  1.06s/it]"
          }
        },
        "558499851a68493e866483c787f4f76a": {
          "model_module": "@jupyter-widgets/base",
          "model_name": "LayoutModel",
          "model_module_version": "1.2.0",
          "state": {
            "_model_module": "@jupyter-widgets/base",
            "_model_module_version": "1.2.0",
            "_model_name": "LayoutModel",
            "_view_count": null,
            "_view_module": "@jupyter-widgets/base",
            "_view_module_version": "1.2.0",
            "_view_name": "LayoutView",
            "align_content": null,
            "align_items": null,
            "align_self": null,
            "border": null,
            "bottom": null,
            "display": null,
            "flex": null,
            "flex_flow": null,
            "grid_area": null,
            "grid_auto_columns": null,
            "grid_auto_flow": null,
            "grid_auto_rows": null,
            "grid_column": null,
            "grid_gap": null,
            "grid_row": null,
            "grid_template_areas": null,
            "grid_template_columns": null,
            "grid_template_rows": null,
            "height": null,
            "justify_content": null,
            "justify_items": null,
            "left": null,
            "margin": null,
            "max_height": null,
            "max_width": null,
            "min_height": null,
            "min_width": null,
            "object_fit": null,
            "object_position": null,
            "order": null,
            "overflow": null,
            "overflow_x": null,
            "overflow_y": null,
            "padding": null,
            "right": null,
            "top": null,
            "visibility": null,
            "width": null
          }
        },
        "0cd8ebdcd00b481884b8362fc9904124": {
          "model_module": "@jupyter-widgets/base",
          "model_name": "LayoutModel",
          "model_module_version": "1.2.0",
          "state": {
            "_model_module": "@jupyter-widgets/base",
            "_model_module_version": "1.2.0",
            "_model_name": "LayoutModel",
            "_view_count": null,
            "_view_module": "@jupyter-widgets/base",
            "_view_module_version": "1.2.0",
            "_view_name": "LayoutView",
            "align_content": null,
            "align_items": null,
            "align_self": null,
            "border": null,
            "bottom": null,
            "display": null,
            "flex": null,
            "flex_flow": null,
            "grid_area": null,
            "grid_auto_columns": null,
            "grid_auto_flow": null,
            "grid_auto_rows": null,
            "grid_column": null,
            "grid_gap": null,
            "grid_row": null,
            "grid_template_areas": null,
            "grid_template_columns": null,
            "grid_template_rows": null,
            "height": null,
            "justify_content": null,
            "justify_items": null,
            "left": null,
            "margin": null,
            "max_height": null,
            "max_width": null,
            "min_height": null,
            "min_width": null,
            "object_fit": null,
            "object_position": null,
            "order": null,
            "overflow": null,
            "overflow_x": null,
            "overflow_y": null,
            "padding": null,
            "right": null,
            "top": null,
            "visibility": null,
            "width": null
          }
        },
        "e6effa4289974d55b0143d7096217c76": {
          "model_module": "@jupyter-widgets/controls",
          "model_name": "DescriptionStyleModel",
          "model_module_version": "1.5.0",
          "state": {
            "_model_module": "@jupyter-widgets/controls",
            "_model_module_version": "1.5.0",
            "_model_name": "DescriptionStyleModel",
            "_view_count": null,
            "_view_module": "@jupyter-widgets/base",
            "_view_module_version": "1.2.0",
            "_view_name": "StyleView",
            "description_width": ""
          }
        },
        "d9dc5008e4d04d60ac9949fe70cb24c6": {
          "model_module": "@jupyter-widgets/base",
          "model_name": "LayoutModel",
          "model_module_version": "1.2.0",
          "state": {
            "_model_module": "@jupyter-widgets/base",
            "_model_module_version": "1.2.0",
            "_model_name": "LayoutModel",
            "_view_count": null,
            "_view_module": "@jupyter-widgets/base",
            "_view_module_version": "1.2.0",
            "_view_name": "LayoutView",
            "align_content": null,
            "align_items": null,
            "align_self": null,
            "border": null,
            "bottom": null,
            "display": null,
            "flex": null,
            "flex_flow": null,
            "grid_area": null,
            "grid_auto_columns": null,
            "grid_auto_flow": null,
            "grid_auto_rows": null,
            "grid_column": null,
            "grid_gap": null,
            "grid_row": null,
            "grid_template_areas": null,
            "grid_template_columns": null,
            "grid_template_rows": null,
            "height": null,
            "justify_content": null,
            "justify_items": null,
            "left": null,
            "margin": null,
            "max_height": null,
            "max_width": null,
            "min_height": null,
            "min_width": null,
            "object_fit": null,
            "object_position": null,
            "order": null,
            "overflow": null,
            "overflow_x": null,
            "overflow_y": null,
            "padding": null,
            "right": null,
            "top": null,
            "visibility": null,
            "width": null
          }
        },
        "bb429d4941b740919fb7bed1e0b94c37": {
          "model_module": "@jupyter-widgets/controls",
          "model_name": "ProgressStyleModel",
          "model_module_version": "1.5.0",
          "state": {
            "_model_module": "@jupyter-widgets/controls",
            "_model_module_version": "1.5.0",
            "_model_name": "ProgressStyleModel",
            "_view_count": null,
            "_view_module": "@jupyter-widgets/base",
            "_view_module_version": "1.2.0",
            "_view_name": "StyleView",
            "bar_color": null,
            "description_width": ""
          }
        },
        "09ccdceaf05f4d0d888f1b13cd416f8b": {
          "model_module": "@jupyter-widgets/base",
          "model_name": "LayoutModel",
          "model_module_version": "1.2.0",
          "state": {
            "_model_module": "@jupyter-widgets/base",
            "_model_module_version": "1.2.0",
            "_model_name": "LayoutModel",
            "_view_count": null,
            "_view_module": "@jupyter-widgets/base",
            "_view_module_version": "1.2.0",
            "_view_name": "LayoutView",
            "align_content": null,
            "align_items": null,
            "align_self": null,
            "border": null,
            "bottom": null,
            "display": null,
            "flex": null,
            "flex_flow": null,
            "grid_area": null,
            "grid_auto_columns": null,
            "grid_auto_flow": null,
            "grid_auto_rows": null,
            "grid_column": null,
            "grid_gap": null,
            "grid_row": null,
            "grid_template_areas": null,
            "grid_template_columns": null,
            "grid_template_rows": null,
            "height": null,
            "justify_content": null,
            "justify_items": null,
            "left": null,
            "margin": null,
            "max_height": null,
            "max_width": null,
            "min_height": null,
            "min_width": null,
            "object_fit": null,
            "object_position": null,
            "order": null,
            "overflow": null,
            "overflow_x": null,
            "overflow_y": null,
            "padding": null,
            "right": null,
            "top": null,
            "visibility": null,
            "width": null
          }
        },
        "6caa2eb1915840a18b63bf7860298f79": {
          "model_module": "@jupyter-widgets/controls",
          "model_name": "DescriptionStyleModel",
          "model_module_version": "1.5.0",
          "state": {
            "_model_module": "@jupyter-widgets/controls",
            "_model_module_version": "1.5.0",
            "_model_name": "DescriptionStyleModel",
            "_view_count": null,
            "_view_module": "@jupyter-widgets/base",
            "_view_module_version": "1.2.0",
            "_view_name": "StyleView",
            "description_width": ""
          }
        },
        "efd383a26f6d4b2cab6ad90c54f11331": {
          "model_module": "@jupyter-widgets/controls",
          "model_name": "HBoxModel",
          "model_module_version": "1.5.0",
          "state": {
            "_dom_classes": [],
            "_model_module": "@jupyter-widgets/controls",
            "_model_module_version": "1.5.0",
            "_model_name": "HBoxModel",
            "_view_count": null,
            "_view_module": "@jupyter-widgets/controls",
            "_view_module_version": "1.5.0",
            "_view_name": "HBoxView",
            "box_style": "",
            "children": [
              "IPY_MODEL_98b5143adde041bc91625652e8bbfde2",
              "IPY_MODEL_50a1162b343440f9856a418f98d5860d",
              "IPY_MODEL_254b76849ad64e3081a3cd5ac380dac0"
            ],
            "layout": "IPY_MODEL_1f26dbe1be834e328182e40c3cdc8879"
          }
        },
        "98b5143adde041bc91625652e8bbfde2": {
          "model_module": "@jupyter-widgets/controls",
          "model_name": "HTMLModel",
          "model_module_version": "1.5.0",
          "state": {
            "_dom_classes": [],
            "_model_module": "@jupyter-widgets/controls",
            "_model_module_version": "1.5.0",
            "_model_name": "HTMLModel",
            "_view_count": null,
            "_view_module": "@jupyter-widgets/controls",
            "_view_module_version": "1.5.0",
            "_view_name": "HTMLView",
            "description": "",
            "description_tooltip": null,
            "layout": "IPY_MODEL_0e880aa117234f14a2d8124d82acb587",
            "placeholder": "​",
            "style": "IPY_MODEL_d77f792f27d548b0a773d5f827638db0",
            "value": "100%"
          }
        },
        "50a1162b343440f9856a418f98d5860d": {
          "model_module": "@jupyter-widgets/controls",
          "model_name": "FloatProgressModel",
          "model_module_version": "1.5.0",
          "state": {
            "_dom_classes": [],
            "_model_module": "@jupyter-widgets/controls",
            "_model_module_version": "1.5.0",
            "_model_name": "FloatProgressModel",
            "_view_count": null,
            "_view_module": "@jupyter-widgets/controls",
            "_view_module_version": "1.5.0",
            "_view_name": "ProgressView",
            "bar_style": "success",
            "description": "",
            "description_tooltip": null,
            "layout": "IPY_MODEL_bd27eba859a2497d9acfffd23d05998d",
            "max": 100,
            "min": 0,
            "orientation": "horizontal",
            "style": "IPY_MODEL_3aee84c44313483f9036bd6fa6b39465",
            "value": 100
          }
        },
        "254b76849ad64e3081a3cd5ac380dac0": {
          "model_module": "@jupyter-widgets/controls",
          "model_name": "HTMLModel",
          "model_module_version": "1.5.0",
          "state": {
            "_dom_classes": [],
            "_model_module": "@jupyter-widgets/controls",
            "_model_module_version": "1.5.0",
            "_model_name": "HTMLModel",
            "_view_count": null,
            "_view_module": "@jupyter-widgets/controls",
            "_view_module_version": "1.5.0",
            "_view_name": "HTMLView",
            "description": "",
            "description_tooltip": null,
            "layout": "IPY_MODEL_86847fac770f4550b5d74d785967ac15",
            "placeholder": "​",
            "style": "IPY_MODEL_3f4134311d8b427c96b9f532281a8a56",
            "value": " 100/100 [00:57&lt;00:00,  1.69it/s]"
          }
        },
        "1f26dbe1be834e328182e40c3cdc8879": {
          "model_module": "@jupyter-widgets/base",
          "model_name": "LayoutModel",
          "model_module_version": "1.2.0",
          "state": {
            "_model_module": "@jupyter-widgets/base",
            "_model_module_version": "1.2.0",
            "_model_name": "LayoutModel",
            "_view_count": null,
            "_view_module": "@jupyter-widgets/base",
            "_view_module_version": "1.2.0",
            "_view_name": "LayoutView",
            "align_content": null,
            "align_items": null,
            "align_self": null,
            "border": null,
            "bottom": null,
            "display": null,
            "flex": null,
            "flex_flow": null,
            "grid_area": null,
            "grid_auto_columns": null,
            "grid_auto_flow": null,
            "grid_auto_rows": null,
            "grid_column": null,
            "grid_gap": null,
            "grid_row": null,
            "grid_template_areas": null,
            "grid_template_columns": null,
            "grid_template_rows": null,
            "height": null,
            "justify_content": null,
            "justify_items": null,
            "left": null,
            "margin": null,
            "max_height": null,
            "max_width": null,
            "min_height": null,
            "min_width": null,
            "object_fit": null,
            "object_position": null,
            "order": null,
            "overflow": null,
            "overflow_x": null,
            "overflow_y": null,
            "padding": null,
            "right": null,
            "top": null,
            "visibility": null,
            "width": null
          }
        },
        "0e880aa117234f14a2d8124d82acb587": {
          "model_module": "@jupyter-widgets/base",
          "model_name": "LayoutModel",
          "model_module_version": "1.2.0",
          "state": {
            "_model_module": "@jupyter-widgets/base",
            "_model_module_version": "1.2.0",
            "_model_name": "LayoutModel",
            "_view_count": null,
            "_view_module": "@jupyter-widgets/base",
            "_view_module_version": "1.2.0",
            "_view_name": "LayoutView",
            "align_content": null,
            "align_items": null,
            "align_self": null,
            "border": null,
            "bottom": null,
            "display": null,
            "flex": null,
            "flex_flow": null,
            "grid_area": null,
            "grid_auto_columns": null,
            "grid_auto_flow": null,
            "grid_auto_rows": null,
            "grid_column": null,
            "grid_gap": null,
            "grid_row": null,
            "grid_template_areas": null,
            "grid_template_columns": null,
            "grid_template_rows": null,
            "height": null,
            "justify_content": null,
            "justify_items": null,
            "left": null,
            "margin": null,
            "max_height": null,
            "max_width": null,
            "min_height": null,
            "min_width": null,
            "object_fit": null,
            "object_position": null,
            "order": null,
            "overflow": null,
            "overflow_x": null,
            "overflow_y": null,
            "padding": null,
            "right": null,
            "top": null,
            "visibility": null,
            "width": null
          }
        },
        "d77f792f27d548b0a773d5f827638db0": {
          "model_module": "@jupyter-widgets/controls",
          "model_name": "DescriptionStyleModel",
          "model_module_version": "1.5.0",
          "state": {
            "_model_module": "@jupyter-widgets/controls",
            "_model_module_version": "1.5.0",
            "_model_name": "DescriptionStyleModel",
            "_view_count": null,
            "_view_module": "@jupyter-widgets/base",
            "_view_module_version": "1.2.0",
            "_view_name": "StyleView",
            "description_width": ""
          }
        },
        "bd27eba859a2497d9acfffd23d05998d": {
          "model_module": "@jupyter-widgets/base",
          "model_name": "LayoutModel",
          "model_module_version": "1.2.0",
          "state": {
            "_model_module": "@jupyter-widgets/base",
            "_model_module_version": "1.2.0",
            "_model_name": "LayoutModel",
            "_view_count": null,
            "_view_module": "@jupyter-widgets/base",
            "_view_module_version": "1.2.0",
            "_view_name": "LayoutView",
            "align_content": null,
            "align_items": null,
            "align_self": null,
            "border": null,
            "bottom": null,
            "display": null,
            "flex": null,
            "flex_flow": null,
            "grid_area": null,
            "grid_auto_columns": null,
            "grid_auto_flow": null,
            "grid_auto_rows": null,
            "grid_column": null,
            "grid_gap": null,
            "grid_row": null,
            "grid_template_areas": null,
            "grid_template_columns": null,
            "grid_template_rows": null,
            "height": null,
            "justify_content": null,
            "justify_items": null,
            "left": null,
            "margin": null,
            "max_height": null,
            "max_width": null,
            "min_height": null,
            "min_width": null,
            "object_fit": null,
            "object_position": null,
            "order": null,
            "overflow": null,
            "overflow_x": null,
            "overflow_y": null,
            "padding": null,
            "right": null,
            "top": null,
            "visibility": null,
            "width": null
          }
        },
        "3aee84c44313483f9036bd6fa6b39465": {
          "model_module": "@jupyter-widgets/controls",
          "model_name": "ProgressStyleModel",
          "model_module_version": "1.5.0",
          "state": {
            "_model_module": "@jupyter-widgets/controls",
            "_model_module_version": "1.5.0",
            "_model_name": "ProgressStyleModel",
            "_view_count": null,
            "_view_module": "@jupyter-widgets/base",
            "_view_module_version": "1.2.0",
            "_view_name": "StyleView",
            "bar_color": null,
            "description_width": ""
          }
        },
        "86847fac770f4550b5d74d785967ac15": {
          "model_module": "@jupyter-widgets/base",
          "model_name": "LayoutModel",
          "model_module_version": "1.2.0",
          "state": {
            "_model_module": "@jupyter-widgets/base",
            "_model_module_version": "1.2.0",
            "_model_name": "LayoutModel",
            "_view_count": null,
            "_view_module": "@jupyter-widgets/base",
            "_view_module_version": "1.2.0",
            "_view_name": "LayoutView",
            "align_content": null,
            "align_items": null,
            "align_self": null,
            "border": null,
            "bottom": null,
            "display": null,
            "flex": null,
            "flex_flow": null,
            "grid_area": null,
            "grid_auto_columns": null,
            "grid_auto_flow": null,
            "grid_auto_rows": null,
            "grid_column": null,
            "grid_gap": null,
            "grid_row": null,
            "grid_template_areas": null,
            "grid_template_columns": null,
            "grid_template_rows": null,
            "height": null,
            "justify_content": null,
            "justify_items": null,
            "left": null,
            "margin": null,
            "max_height": null,
            "max_width": null,
            "min_height": null,
            "min_width": null,
            "object_fit": null,
            "object_position": null,
            "order": null,
            "overflow": null,
            "overflow_x": null,
            "overflow_y": null,
            "padding": null,
            "right": null,
            "top": null,
            "visibility": null,
            "width": null
          }
        },
        "3f4134311d8b427c96b9f532281a8a56": {
          "model_module": "@jupyter-widgets/controls",
          "model_name": "DescriptionStyleModel",
          "model_module_version": "1.5.0",
          "state": {
            "_model_module": "@jupyter-widgets/controls",
            "_model_module_version": "1.5.0",
            "_model_name": "DescriptionStyleModel",
            "_view_count": null,
            "_view_module": "@jupyter-widgets/base",
            "_view_module_version": "1.2.0",
            "_view_name": "StyleView",
            "description_width": ""
          }
        },
        "eaec78f38d1c49cc8214d41ca51428e0": {
          "model_module": "@jupyter-widgets/controls",
          "model_name": "HBoxModel",
          "model_module_version": "1.5.0",
          "state": {
            "_dom_classes": [],
            "_model_module": "@jupyter-widgets/controls",
            "_model_module_version": "1.5.0",
            "_model_name": "HBoxModel",
            "_view_count": null,
            "_view_module": "@jupyter-widgets/controls",
            "_view_module_version": "1.5.0",
            "_view_name": "HBoxView",
            "box_style": "",
            "children": [
              "IPY_MODEL_2504333dbfe742a6a6bb7d94aad66028",
              "IPY_MODEL_8d51014984444cb6a9bf75f8086babf9",
              "IPY_MODEL_ba1ecc51d5bf4ea0bb218b9f8433ede8"
            ],
            "layout": "IPY_MODEL_d92ca1c02ed44d2b92184279568a78ec"
          }
        },
        "2504333dbfe742a6a6bb7d94aad66028": {
          "model_module": "@jupyter-widgets/controls",
          "model_name": "HTMLModel",
          "model_module_version": "1.5.0",
          "state": {
            "_dom_classes": [],
            "_model_module": "@jupyter-widgets/controls",
            "_model_module_version": "1.5.0",
            "_model_name": "HTMLModel",
            "_view_count": null,
            "_view_module": "@jupyter-widgets/controls",
            "_view_module_version": "1.5.0",
            "_view_name": "HTMLView",
            "description": "",
            "description_tooltip": null,
            "layout": "IPY_MODEL_cb33247f016f47ebad1e910e6993bf27",
            "placeholder": "​",
            "style": "IPY_MODEL_988822bfecfb48b09ccc5e0a6f1c67e5",
            "value": "100%"
          }
        },
        "8d51014984444cb6a9bf75f8086babf9": {
          "model_module": "@jupyter-widgets/controls",
          "model_name": "FloatProgressModel",
          "model_module_version": "1.5.0",
          "state": {
            "_dom_classes": [],
            "_model_module": "@jupyter-widgets/controls",
            "_model_module_version": "1.5.0",
            "_model_name": "FloatProgressModel",
            "_view_count": null,
            "_view_module": "@jupyter-widgets/controls",
            "_view_module_version": "1.5.0",
            "_view_name": "ProgressView",
            "bar_style": "success",
            "description": "",
            "description_tooltip": null,
            "layout": "IPY_MODEL_567c25a320ab417b957fa491f88ab3c7",
            "max": 100,
            "min": 0,
            "orientation": "horizontal",
            "style": "IPY_MODEL_5b3cc028b1744b22ba6002143214afc7",
            "value": 100
          }
        },
        "ba1ecc51d5bf4ea0bb218b9f8433ede8": {
          "model_module": "@jupyter-widgets/controls",
          "model_name": "HTMLModel",
          "model_module_version": "1.5.0",
          "state": {
            "_dom_classes": [],
            "_model_module": "@jupyter-widgets/controls",
            "_model_module_version": "1.5.0",
            "_model_name": "HTMLModel",
            "_view_count": null,
            "_view_module": "@jupyter-widgets/controls",
            "_view_module_version": "1.5.0",
            "_view_name": "HTMLView",
            "description": "",
            "description_tooltip": null,
            "layout": "IPY_MODEL_f3feecd99faa43939becb965cf445a56",
            "placeholder": "​",
            "style": "IPY_MODEL_40772d6cdb364acbb4c3a339401a4a98",
            "value": " 100/100 [02:29&lt;00:00,  1.50s/it]"
          }
        },
        "d92ca1c02ed44d2b92184279568a78ec": {
          "model_module": "@jupyter-widgets/base",
          "model_name": "LayoutModel",
          "model_module_version": "1.2.0",
          "state": {
            "_model_module": "@jupyter-widgets/base",
            "_model_module_version": "1.2.0",
            "_model_name": "LayoutModel",
            "_view_count": null,
            "_view_module": "@jupyter-widgets/base",
            "_view_module_version": "1.2.0",
            "_view_name": "LayoutView",
            "align_content": null,
            "align_items": null,
            "align_self": null,
            "border": null,
            "bottom": null,
            "display": null,
            "flex": null,
            "flex_flow": null,
            "grid_area": null,
            "grid_auto_columns": null,
            "grid_auto_flow": null,
            "grid_auto_rows": null,
            "grid_column": null,
            "grid_gap": null,
            "grid_row": null,
            "grid_template_areas": null,
            "grid_template_columns": null,
            "grid_template_rows": null,
            "height": null,
            "justify_content": null,
            "justify_items": null,
            "left": null,
            "margin": null,
            "max_height": null,
            "max_width": null,
            "min_height": null,
            "min_width": null,
            "object_fit": null,
            "object_position": null,
            "order": null,
            "overflow": null,
            "overflow_x": null,
            "overflow_y": null,
            "padding": null,
            "right": null,
            "top": null,
            "visibility": null,
            "width": null
          }
        },
        "cb33247f016f47ebad1e910e6993bf27": {
          "model_module": "@jupyter-widgets/base",
          "model_name": "LayoutModel",
          "model_module_version": "1.2.0",
          "state": {
            "_model_module": "@jupyter-widgets/base",
            "_model_module_version": "1.2.0",
            "_model_name": "LayoutModel",
            "_view_count": null,
            "_view_module": "@jupyter-widgets/base",
            "_view_module_version": "1.2.0",
            "_view_name": "LayoutView",
            "align_content": null,
            "align_items": null,
            "align_self": null,
            "border": null,
            "bottom": null,
            "display": null,
            "flex": null,
            "flex_flow": null,
            "grid_area": null,
            "grid_auto_columns": null,
            "grid_auto_flow": null,
            "grid_auto_rows": null,
            "grid_column": null,
            "grid_gap": null,
            "grid_row": null,
            "grid_template_areas": null,
            "grid_template_columns": null,
            "grid_template_rows": null,
            "height": null,
            "justify_content": null,
            "justify_items": null,
            "left": null,
            "margin": null,
            "max_height": null,
            "max_width": null,
            "min_height": null,
            "min_width": null,
            "object_fit": null,
            "object_position": null,
            "order": null,
            "overflow": null,
            "overflow_x": null,
            "overflow_y": null,
            "padding": null,
            "right": null,
            "top": null,
            "visibility": null,
            "width": null
          }
        },
        "988822bfecfb48b09ccc5e0a6f1c67e5": {
          "model_module": "@jupyter-widgets/controls",
          "model_name": "DescriptionStyleModel",
          "model_module_version": "1.5.0",
          "state": {
            "_model_module": "@jupyter-widgets/controls",
            "_model_module_version": "1.5.0",
            "_model_name": "DescriptionStyleModel",
            "_view_count": null,
            "_view_module": "@jupyter-widgets/base",
            "_view_module_version": "1.2.0",
            "_view_name": "StyleView",
            "description_width": ""
          }
        },
        "567c25a320ab417b957fa491f88ab3c7": {
          "model_module": "@jupyter-widgets/base",
          "model_name": "LayoutModel",
          "model_module_version": "1.2.0",
          "state": {
            "_model_module": "@jupyter-widgets/base",
            "_model_module_version": "1.2.0",
            "_model_name": "LayoutModel",
            "_view_count": null,
            "_view_module": "@jupyter-widgets/base",
            "_view_module_version": "1.2.0",
            "_view_name": "LayoutView",
            "align_content": null,
            "align_items": null,
            "align_self": null,
            "border": null,
            "bottom": null,
            "display": null,
            "flex": null,
            "flex_flow": null,
            "grid_area": null,
            "grid_auto_columns": null,
            "grid_auto_flow": null,
            "grid_auto_rows": null,
            "grid_column": null,
            "grid_gap": null,
            "grid_row": null,
            "grid_template_areas": null,
            "grid_template_columns": null,
            "grid_template_rows": null,
            "height": null,
            "justify_content": null,
            "justify_items": null,
            "left": null,
            "margin": null,
            "max_height": null,
            "max_width": null,
            "min_height": null,
            "min_width": null,
            "object_fit": null,
            "object_position": null,
            "order": null,
            "overflow": null,
            "overflow_x": null,
            "overflow_y": null,
            "padding": null,
            "right": null,
            "top": null,
            "visibility": null,
            "width": null
          }
        },
        "5b3cc028b1744b22ba6002143214afc7": {
          "model_module": "@jupyter-widgets/controls",
          "model_name": "ProgressStyleModel",
          "model_module_version": "1.5.0",
          "state": {
            "_model_module": "@jupyter-widgets/controls",
            "_model_module_version": "1.5.0",
            "_model_name": "ProgressStyleModel",
            "_view_count": null,
            "_view_module": "@jupyter-widgets/base",
            "_view_module_version": "1.2.0",
            "_view_name": "StyleView",
            "bar_color": null,
            "description_width": ""
          }
        },
        "f3feecd99faa43939becb965cf445a56": {
          "model_module": "@jupyter-widgets/base",
          "model_name": "LayoutModel",
          "model_module_version": "1.2.0",
          "state": {
            "_model_module": "@jupyter-widgets/base",
            "_model_module_version": "1.2.0",
            "_model_name": "LayoutModel",
            "_view_count": null,
            "_view_module": "@jupyter-widgets/base",
            "_view_module_version": "1.2.0",
            "_view_name": "LayoutView",
            "align_content": null,
            "align_items": null,
            "align_self": null,
            "border": null,
            "bottom": null,
            "display": null,
            "flex": null,
            "flex_flow": null,
            "grid_area": null,
            "grid_auto_columns": null,
            "grid_auto_flow": null,
            "grid_auto_rows": null,
            "grid_column": null,
            "grid_gap": null,
            "grid_row": null,
            "grid_template_areas": null,
            "grid_template_columns": null,
            "grid_template_rows": null,
            "height": null,
            "justify_content": null,
            "justify_items": null,
            "left": null,
            "margin": null,
            "max_height": null,
            "max_width": null,
            "min_height": null,
            "min_width": null,
            "object_fit": null,
            "object_position": null,
            "order": null,
            "overflow": null,
            "overflow_x": null,
            "overflow_y": null,
            "padding": null,
            "right": null,
            "top": null,
            "visibility": null,
            "width": null
          }
        },
        "40772d6cdb364acbb4c3a339401a4a98": {
          "model_module": "@jupyter-widgets/controls",
          "model_name": "DescriptionStyleModel",
          "model_module_version": "1.5.0",
          "state": {
            "_model_module": "@jupyter-widgets/controls",
            "_model_module_version": "1.5.0",
            "_model_name": "DescriptionStyleModel",
            "_view_count": null,
            "_view_module": "@jupyter-widgets/base",
            "_view_module_version": "1.2.0",
            "_view_name": "StyleView",
            "description_width": ""
          }
        }
      }
    }
  },
  "cells": [
    {
      "cell_type": "markdown",
      "metadata": {
        "id": "view-in-github",
        "colab_type": "text"
      },
      "source": [
        "<a href=\"https://colab.research.google.com/github/camilothorne/seq2seq-chem/blob/main/NN_layer_exercise.ipynb\" target=\"_parent\"><img src=\"https://colab.research.google.com/assets/colab-badge.svg\" alt=\"Open In Colab\"/></a>"
      ]
    },
    {
      "cell_type": "markdown",
      "source": [
        "#### **Load dependecies**:"
      ],
      "metadata": {
        "id": "zE7Njsx4K-tw"
      }
    },
    {
      "cell_type": "code",
      "execution_count": 1,
      "metadata": {
        "id": "oKjNfWqY184-"
      },
      "outputs": [],
      "source": [
        "import math, copy, os.path\n",
        "import torch\n",
        "import numpy as np\n",
        "from tqdm.notebook import tqdm\n",
        "from sklearn.model_selection import train_test_split\n",
        "import pandas as pd\n",
        "from sklearn import preprocessing\n",
        "from matplotlib import pyplot as plt\n",
        "from torch.nn.modules.module import _addindent"
      ]
    },
    {
      "cell_type": "code",
      "source": [
        "!hostname -I"
      ],
      "metadata": {
        "colab": {
          "base_uri": "https://localhost:8080/"
        },
        "id": "SXHHHkxrwilL",
        "outputId": "f6d1d2a8-0ea0-4083-8be1-cf65eb8568c0"
      },
      "execution_count": 2,
      "outputs": [
        {
          "output_type": "stream",
          "name": "stdout",
          "text": [
            "172.28.0.12 \n"
          ]
        }
      ]
    },
    {
      "cell_type": "markdown",
      "source": [
        "#### **Custom self attention layer**:"
      ],
      "metadata": {
        "id": "2kU9Pps3iwXG"
      }
    },
    {
      "cell_type": "code",
      "source": [
        "class SelfAttention(torch.nn.Module):\n",
        "    '''\n",
        "    Definition of layer is as follows:\n",
        "\n",
        "        out = softmax( (Q * K^T) / sqrt(d)) * V\n",
        "\n",
        "    where Q, V and K are linear transforms of the input\n",
        "    resp. activation of previous layer.\n",
        "\n",
        "    Derived from https://stackoverflow.com/questions/76648620/how-do-i-implement-this-attention-layer-in-pytorch\n",
        "    '''\n",
        "    def __init__(self, input_dim: int) -> None:\n",
        "\n",
        "        super(SelfAttention, self).__init__()\n",
        "        self.feature_size = input_dim\n",
        "        self.query = torch.nn.Linear(input_dim, input_dim)\n",
        "        self.key = torch.nn.Linear(input_dim, input_dim)\n",
        "        self.value = torch.nn.Linear(input_dim, input_dim)\n",
        "        self.reset_parameters()\n",
        "\n",
        "    def reset_parameters(self) -> None:\n",
        "        '''\n",
        "        Init parameters with random weights\n",
        "        '''\n",
        "        stdv = 1.0 / math.sqrt(self.feature_size)\n",
        "        for weight in self.parameters():\n",
        "            weight.data.uniform_(-stdv, +stdv)\n",
        "\n",
        "    def forward(self, input: torch.Tensor, mask=None) -> tuple[torch.Tensor, torch.Tensor]:\n",
        "\n",
        "        # Apply linear transformations\n",
        "        keys = self.key(input)\n",
        "        queries = self.query(input)\n",
        "        values = self.value(input)\n",
        "        # Scaled dot-product attention\n",
        "        scores = torch.matmul(queries.transpose(0,1), keys) / (self.feature_size**0.5)\n",
        "        # Apply mask (if provided)\n",
        "        if mask is not None:\n",
        "            scores = scores.masked_fill(mask == 0, -1e9)\n",
        "        # Apply softmax\n",
        "        attention_weights = torch.nn.functional.softmax(scores, dim=-1)\n",
        "        # Multiply weights with values\n",
        "        out = torch.matmul(values, attention_weights)\n",
        "        return out, attention_weights"
      ],
      "metadata": {
        "id": "RQ9QBXKx2G7i"
      },
      "execution_count": 3,
      "outputs": []
    },
    {
      "cell_type": "code",
      "source": [
        "class modSelfAttention(torch.nn.Module):\n",
        "    '''\n",
        "    Custom model using custom layer\n",
        "    '''\n",
        "\n",
        "    def __init__(self, input_features):\n",
        "\n",
        "        super(modSelfAttention, self).__init__()\n",
        "        self.input_features = input_features\n",
        "        self.state_size = state_size\n",
        "        self.rnn = SelfAttention(input_features)\n",
        "        self.output_layer = torch.nn.Linear(input_features, 1)\n",
        "\n",
        "    def forward(self, input:torch.tensor) -> torch.tensor:\n",
        "\n",
        "        res, att = self.rnn(input)\n",
        "        out = self.output_layer(res)\n",
        "        return out"
      ],
      "metadata": {
        "id": "ptx2snN6NIER"
      },
      "execution_count": 4,
      "outputs": []
    },
    {
      "cell_type": "markdown",
      "source": [
        "#### **Custom RNN layer:**"
      ],
      "metadata": {
        "id": "AuNlKueAKaVH"
      }
    },
    {
      "cell_type": "code",
      "source": [
        "class VanillaRNN(torch.nn.Module):\n",
        "    \"\"\"\n",
        "    Basic RNN block. This represents a single layer of RNN.\n",
        "\n",
        "    Derived from:\n",
        "        https://jaketae.github.io/study/pytorch-rnn/\n",
        "        https://solardevs.com/blog/coding-a-recurrent-neural-network-rnn-from-scratch-using-pytorch/\n",
        "    \"\"\"\n",
        "    def __init__(self, input_size: int, hidden_size: int, output_size: int) -> None:\n",
        "\n",
        "        \"\"\"\n",
        "        input_size: number of features of your input vector\n",
        "        idden_size: number of hidden neurons\n",
        "        output_size: number of features of your output vector\n",
        "        \"\"\"\n",
        "        super(VanillaRNN, self).__init__()\n",
        "        self.input_size = input_size\n",
        "        self.hidden_size = hidden_size\n",
        "        self.output_size = output_size\n",
        "        self.i2h = torch.nn.Linear(input_size, hidden_size, bias=False)\n",
        "        self.h2h = torch.nn.Linear(hidden_size, hidden_size)\n",
        "        self.h2o = torch.nn.Linear(hidden_size, output_size)\n",
        "        self.reset_parameters()\n",
        "\n",
        "    def reset_parameters(self) -> None:\n",
        "        '''\n",
        "        Init parameters with random weights\n",
        "        '''\n",
        "        stdv = 1.0 / math.sqrt(self.hidden_size)\n",
        "        for weight in self.parameters():\n",
        "            weight.data.uniform_(-stdv, +stdv)\n",
        "\n",
        "    def forward(self, x:torch.Tensor, hidden_state:torch.Tensor) -> tuple[torch.Tensor, torch.Tensor]:\n",
        "        \"\"\"\n",
        "        Returns computed output and tanh(i2h + h2h)\n",
        "        Inputs:\n",
        "          x: input vector\n",
        "          hidden_state: previous hidden state\n",
        "        Outputs:\n",
        "          out: linear output (without activation because of how PyTorch works)\n",
        "          hidden_state: new hidden state matrix\n",
        "        \"\"\"\n",
        "        x_res = self.i2h(x)\n",
        "        hidden_state = self.h2h(hidden_state)\n",
        "        hidden_state = torch.tanh(x_res + hidden_state)\n",
        "        out = self.h2o(hidden_state)\n",
        "        return out, hidden_state"
      ],
      "metadata": {
        "id": "BOgNlH-0YCYp"
      },
      "execution_count": 5,
      "outputs": []
    },
    {
      "cell_type": "code",
      "source": [
        "class modVanillaRNN(torch.nn.Module):\n",
        "    '''\n",
        "    Custom model using custom layer.\n",
        "    '''\n",
        "\n",
        "    def __init__(self, input_features, state_size, output_features, batch_size):\n",
        "\n",
        "        super(modVanillaRNN, self).__init__()\n",
        "        self.state_size = state_size\n",
        "        self.batch_size = batch_size\n",
        "        self.rnn = VanillaRNN(input_features, state_size, state_size)\n",
        "        self.output_layer = torch.nn.Linear(state_size, output_features)\n",
        "\n",
        "    def init_zero_hidden(self, batch_size=1) -> torch.Tensor:\n",
        "        \"\"\"\n",
        "\t\tHelper function:\n",
        "          Returns a hidden state with specified batch size, defaults to 1.\n",
        "          Used only when we train model on sequence/temporal data.\n",
        "        \"\"\"\n",
        "        return torch.zeros(batch_size, self.state_size, requires_grad=False)\n",
        "\n",
        "    def forward(self, input:torch.tensor) -> torch.tensor:\n",
        "        '''\n",
        "        Should we init the hidden state weights at every batch / epoch?\n",
        "          In general, no: it is updated at every time-step, but we're not considering\n",
        "          features timesteps, therefore, it is OK here.\n",
        "\n",
        "          Check again: https://jaketae.github.io/study/pytorch-rnn/\n",
        "        '''\n",
        "        h = torch.randn(self.batch_size, self.state_size) # hidden state (random)\n",
        "        out, hidden = self.rnn(input, h)\n",
        "        out = self.output_layer(out)\n",
        "        return out"
      ],
      "metadata": {
        "id": "18K0FxcCNCJJ"
      },
      "execution_count": 6,
      "outputs": []
    },
    {
      "cell_type": "markdown",
      "source": [
        "#### **Vanilla GRU layer:**"
      ],
      "metadata": {
        "id": "nf8f3STXM0L7"
      }
    },
    {
      "cell_type": "code",
      "source": [
        "class VanillaGRU(torch.nn.Module):\n",
        "    '''\n",
        "    Vanilla GRU layer.\n",
        "\n",
        "    Derived from:\n",
        "        https://solardevs.com/blog/coding-a-recurrent-neural-network-rnn-from-scratch-using-pytorch/\n",
        "    '''\n",
        "    def __init__(self, input_dim:int, hidden_dim:int, bias=True) -> None:\n",
        "\n",
        "        super(VanillaGRU, self).__init__()\n",
        "        self.input_size = input_dim\n",
        "        self.hidden_size = hidden_dim\n",
        "        self.bias = bias\n",
        "        self.x2h = torch.nn.Linear(\n",
        "            input_dim, 3 * hidden_dim, bias=bias\n",
        "            )\n",
        "        self.h2h = torch.nn.Linear(\n",
        "            hidden_dim, 3 * hidden_dim, bias=bias\n",
        "            )\n",
        "        self.reset_parameters()\n",
        "\n",
        "    def reset_parameters(self) -> None:\n",
        "        '''\n",
        "        Init parameters with random weights\n",
        "        '''\n",
        "        stdv = 1.0 / math.sqrt(self.hidden_size)\n",
        "        for weight in self.parameters():\n",
        "            weight.data.uniform_(-stdv, +stdv)\n",
        "\n",
        "    def forward(self, input:torch.Tensor, hidden: torch.Tensor) -> torch.Tensor:\n",
        "\n",
        "        input = input.view(-1, input.size(1))\n",
        "\n",
        "        gate_x = self.x2h(input)\n",
        "        gate_h = self.h2h(hidden)\n",
        "\n",
        "        gate_x = gate_x.squeeze()\n",
        "        gate_h = gate_h.squeeze()\n",
        "\n",
        "        i_r, i_i, i_n = gate_x.chunk(3, 1)\n",
        "        h_r, h_i, h_n = gate_h.chunk(3, 1)\n",
        "\n",
        "        resetgate = torch.nn.functional.sigmoid(i_r + h_r)\n",
        "        inputgate = torch.nn.functional.sigmoid(i_i + h_i)\n",
        "        newgate = torch.nn.functional.tanh(i_n + (resetgate * h_n))\n",
        "\n",
        "        out = newgate + inputgate * (hidden - newgate)\n",
        "\n",
        "        return out"
      ],
      "metadata": {
        "id": "BG0viTi12HPh"
      },
      "execution_count": 11,
      "outputs": []
    },
    {
      "cell_type": "code",
      "source": [
        "class modVanillaGRU(torch.nn.Module):\n",
        "    '''\n",
        "    Custom model using custom layer.\n",
        "    '''\n",
        "\n",
        "    def __init__(self, input_features, state_size, output_features, batch_size):\n",
        "\n",
        "        super(modVanillaGRU, self).__init__()\n",
        "        self.state_size = state_size\n",
        "        self.batch_size = batch_size\n",
        "        self.rnn = VanillaGRU(input_features, state_size, state_size)\n",
        "        self.output_layer = torch.nn.Linear(state_size, output_features)\n",
        "\n",
        "    def init_zero_hidden(self, batch_size=1) -> torch.Tensor:\n",
        "        \"\"\"\n",
        "\t\tHelper function:\n",
        "          Returns a hidden state with specified batch size, defaults to 1.\n",
        "          Used only when we train model on sequence/temporal data.\n",
        "        \"\"\"\n",
        "        return torch.zeros(batch_size, self.state_size, requires_grad=False)\n",
        "\n",
        "    def forward(self, input:torch.tensor) -> torch.tensor:\n",
        "        '''\n",
        "        Should we init the hidden state weights at every batch / epoch?\n",
        "          In general, no: it is updated at every time-step, but we're not considering\n",
        "          features timesteps, therefore, it is OK here.\n",
        "        '''\n",
        "        h = torch.randn(self.batch_size, self.state_size) # hidden state (random)\n",
        "        out = self.rnn(input, h)\n",
        "        out = self.output_layer(out)\n",
        "        return out"
      ],
      "metadata": {
        "id": "yWfRGdFsTcgH"
      },
      "execution_count": 12,
      "outputs": []
    },
    {
      "cell_type": "markdown",
      "source": [
        "#### **Custom linear layer**:"
      ],
      "metadata": {
        "id": "9VZgnkR9Kfl0"
      }
    },
    {
      "cell_type": "code",
      "source": [
        "class VanillaLinear(torch.nn.Module):\n",
        "    '''\n",
        "    Definition of layer is as follows:\n",
        "\n",
        "        out = W^Tx + b\n",
        "    '''\n",
        "    def __init__(self, input_dim:int, out_dim:int, bias=True) -> None:\n",
        "\n",
        "        super(VanillaLinear, self).__init__()\n",
        "        self.input_dim = input_dim\n",
        "        self.out_dim = out_dim\n",
        "        self.weights = torch.nn.Parameter(\n",
        "            torch.empty(input_dim, out_dim)\n",
        "        )\n",
        "        self.bias = torch.nn.Parameter(\n",
        "            torch.empty(out_dim)\n",
        "        )\n",
        "        self.reset_parameters()\n",
        "\n",
        "    def reset_parameters(self) -> None:\n",
        "        '''\n",
        "        Init parameters with random weights\n",
        "        '''\n",
        "        stdv = 1.0 / math.sqrt(self.input_dim)\n",
        "        for weight in self.parameters():\n",
        "            weight.data.uniform_(-stdv, +stdv)\n",
        "\n",
        "    def forward(self, input:torch.Tensor) -> tuple[torch.Tensor, torch.Tensor]:\n",
        "        '''\n",
        "        Here we compute the tensor multiplication\n",
        "        Note that x.t() means x^T (transposition)\n",
        "        '''\n",
        "        #print('input (layer)', input.shape)\n",
        "        #print('weights (layer)', self.weights.shape)\n",
        "        #print('transposed weights', self.weights.t().shape)\n",
        "        mul = torch.matmul(input, self.weights)     # Wx^T\n",
        "        out = torch.add(mul, self.bias)             # Wx^T + b\n",
        "        return out, mul"
      ],
      "metadata": {
        "id": "hfwj_A7T2Hj5"
      },
      "execution_count": 13,
      "outputs": []
    },
    {
      "cell_type": "code",
      "source": [
        "class modLinear(torch.nn.Module):\n",
        "    '''\n",
        "    Custom model using custom layer\n",
        "    '''\n",
        "    def __init__(self, input_features:int, state_size:int, output_features:int) -> None:\n",
        "\n",
        "        super(modLinear, self).__init__()\n",
        "        self.lnn1    = VanillaLinear(input_dim=input_features, out_dim=state_size)\n",
        "        self.lnn1_bn = torch.nn.BatchNorm1d(num_features=state_size)\n",
        "        self.lnn2    = VanillaLinear(input_dim=state_size, out_dim=output_features)\n",
        "        self.lnn2_bn = torch.nn.BatchNorm1d(num_features=output_features)\n",
        "\n",
        "    def forward(self, input:torch.tensor) -> torch.tensor:\n",
        "\n",
        "        #print(input.shape)\n",
        "        out1, _    = self.lnn1(input)\n",
        "        #print(out_x.shape)\n",
        "        out2, _   = self.lnn2(self.lnn1_bn(out1))\n",
        "        out       = self.lnn2_bn(out2)\n",
        "        #print(out.shape)\n",
        "        return out"
      ],
      "metadata": {
        "id": "oVsLCF6hpbJ3"
      },
      "execution_count": 14,
      "outputs": []
    },
    {
      "cell_type": "markdown",
      "source": [
        "#### **Train**:"
      ],
      "metadata": {
        "id": "A0nuus0wbn9b"
      }
    },
    {
      "cell_type": "code",
      "source": [
        "def train_variant(dnn:torch.nn.Module,\n",
        "                  X_train:np.array,\n",
        "                  X_test:np.array,\n",
        "                  y_train:np.array,\n",
        "                  y_test:np.array,\n",
        "                  val_history:list,\n",
        "                  loss_history:list,\n",
        "                  data_size:int,\n",
        "                  batch_size:int,\n",
        "                  clip_value:int,\n",
        "                  my_lr:float,\n",
        "                  my_momentum:float,\n",
        "    ) -> None:\n",
        "\n",
        "    print(\"--------------------\")\n",
        "    print(\"Model and parameters:\")\n",
        "    print(torch_summarize(dnn))\n",
        "\n",
        "    # Choose optimizer and loss function (MSE)\n",
        "    optimizer   = torch.optim.SGD(dnn.parameters(), lr=my_lr, momentum=my_momentum)\n",
        "    mse_loss    = torch.nn.MSELoss()\n",
        "\n",
        "    # Hold the best model\n",
        "    best_mse        = np.inf   # init to infinity\n",
        "    best_weights    = None\n",
        "\n",
        "    torch.autograd.set_detect_anomaly(True) # check for anomaly in gradients\n",
        "\n",
        "    print(\"--------------------\")\n",
        "    print(f\"SGD for {epochs} epochs, with batch size {batch_size}:\")\n",
        "    for i in tqdm(range(epochs)):\n",
        "\n",
        "        dnn.train()\n",
        "        #print(f\"epoch {i}\")\n",
        "        start = 0\n",
        "        count = 0\n",
        "\n",
        "        while data_size - start > batch_size:\n",
        "            #print(f\"\\nbatch {count}:\")\n",
        "            optimizer.zero_grad()\n",
        "            #print(\"forward pass\")\n",
        "            #print(f\"model inputs {X_train[start:start+batch_size].shape}\")\n",
        "            out = dnn(X_train[start:start+batch_size]) # forward pass\n",
        "            loss = mse_loss(out, y_train[start:start+batch_size])\n",
        "            #print(f\"model preds {out.shape} vs gold {y_train[start:start+batch_size].shape} shapes\")\n",
        "            #print(f\"loss: {loss.item()}\")\n",
        "            #loss.backward(retain_graph=True, gradient=loss.grad)\n",
        "            #print(\"backward pass\")\n",
        "            loss.backward()\n",
        "            if clip_value > 0:\n",
        "                torch.nn.utils.clip_grad_norm_(dnn.parameters(), clip_value)\n",
        "            optimizer.step()\n",
        "            start = start + batch_size\n",
        "            count = count + 1\n",
        "            #if ((i%10 == 0) & (count%20 == 0)):\n",
        "            #    print(f\" - slice (train) {start}--{start+batch_size}\")\n",
        "            #    print(\" - loss at epoch {} and train batch {} is: {:.10f}\".format(i, count, loss.item()))\n",
        "\n",
        "        dnn.eval()\n",
        "        estart = 0\n",
        "        ecount = 0\n",
        "        while test_size - estart > batch_size:\n",
        "\n",
        "            y_pred = dnn(X_test[estart:estart+batch_size])\n",
        "            mse = mse_loss(y_pred, y_test[estart:estart+batch_size])\n",
        "            if ((i%10 == 0) & (ecount%20 == 0)):\n",
        "                loss_history.append(loss.item())\n",
        "                #print(f\" - slice (val) {estart}--{estart+batch_size}\")\n",
        "                #print(\" - MSE at epoch {} and test batch {} is: {:.10f}\".format(i, ecount, mse.item()))\n",
        "                val_history.append(mse.item())\n",
        "                if mse.item() < best_mse:\n",
        "                    best_mse = mse.item()\n",
        "                    best_weights = copy.deepcopy(dnn.state_dict())\n",
        "            estart = estart + batch_size\n",
        "            ecount = ecount + 1\n",
        "\n",
        "    #print(\"--------------------\")\n",
        "    #print(\"Network gradients:\")\n",
        "    #for name, param in dnn.named_parameters():\n",
        "    #    print(\" - grads: \", name, torch.isfinite(param.grad).all())\n",
        "\n",
        "    print(\"--------------------\")\n",
        "    print(\"MSE (best): %.2f\" % best_mse)\n",
        "    print(\"RMSE (best): %.2f\" % np.sqrt(best_mse))\n",
        "    print(\"--------------------\")"
      ],
      "metadata": {
        "id": "TGOYwZBkYS_4"
      },
      "execution_count": 15,
      "outputs": []
    },
    {
      "cell_type": "markdown",
      "source": [
        "####  **Visualize:**"
      ],
      "metadata": {
        "id": "eNLkkA0HczYE"
      }
    },
    {
      "cell_type": "code",
      "source": [
        "def torch_summarize(model:torch.nn.Module,\n",
        "                    show_weights=True,\n",
        "                    show_parameters=True) -> str:\n",
        "    \"\"\"\n",
        "    Summarizes torch model by showing trainable parameters and weights\n",
        "    \"\"\"\n",
        "    tmpstr = model.__class__.__name__ + ' (\\n'\n",
        "    for key, module in model._modules.items():\n",
        "        # if it contains layers let call it recursively to get params and weights\n",
        "        if type(module) in [\n",
        "            torch.nn.modules.container.Container,\n",
        "            torch.nn.modules.container.Sequential\n",
        "        ]:\n",
        "            modstr = torch_summarize(module)\n",
        "        else:\n",
        "            modstr = module.__repr__()\n",
        "        modstr = _addindent(modstr, 2)\n",
        "        params = sum([np.prod(p.size()) for p in module.parameters()])\n",
        "        weights = tuple([tuple(p.size()) for p in module.parameters()])\n",
        "        tmpstr += '  (' + key + '): ' + modstr\n",
        "        if show_weights:\n",
        "            tmpstr += ', weights={}'.format(weights)\n",
        "        if show_parameters:\n",
        "            tmpstr +=  ', parameters={}'.format(params)\n",
        "        tmpstr += '\\n'\n",
        "    tmpstr = tmpstr + ')'\n",
        "    return tmpstr"
      ],
      "metadata": {
        "id": "639LdJp0mloz"
      },
      "execution_count": 16,
      "outputs": []
    },
    {
      "cell_type": "code",
      "source": [
        "def plot_result(loss_history:list,\n",
        "                val_history:list) -> None:\n",
        "  '''\n",
        "  Display learning curve\n",
        "  '''\n",
        "  %matplotlib inline\n",
        "  plt.plot(loss_history, label=\"train\")\n",
        "  plt.plot(val_history, label=\"val\")\n",
        "  plt.ylabel(\"MSE loss\")\n",
        "  plt.xlabel(\"Validation batch\")\n",
        "  plt.xticks(range(0,len(val_history)))\n",
        "  plt.title(f\"Training loss over {epochs} epochs\")\n",
        "  plt.legend(loc='upper right')"
      ],
      "metadata": {
        "id": "QXuTXFi9YEYR"
      },
      "execution_count": 17,
      "outputs": []
    },
    {
      "cell_type": "code",
      "source": [],
      "metadata": {
        "id": "vS2rhR4BQYjl"
      },
      "execution_count": 17,
      "outputs": []
    },
    {
      "cell_type": "markdown",
      "source": [
        "#### **Data and (shared) hyper-params**:\n",
        "\n",
        "Only the clipping value changes per experiment."
      ],
      "metadata": {
        "id": "-MB039fdO1T_"
      }
    },
    {
      "cell_type": "code",
      "source": [
        "!ls sample_data/"
      ],
      "metadata": {
        "colab": {
          "base_uri": "https://localhost:8080/"
        },
        "id": "M2gfuMziN7KW",
        "outputId": "e0c85996-01af-47b8-ddf5-20f3377866e5"
      },
      "execution_count": 18,
      "outputs": [
        {
          "output_type": "stream",
          "name": "stdout",
          "text": [
            "anscombe.json\t\t     california_housing_train.csv  mnist_train_small.csv\n",
            "california_housing_test.csv  mnist_test.csv\t\t   README.md\n"
          ]
        }
      ]
    },
    {
      "cell_type": "code",
      "source": [
        "'''\n",
        "Needs to be imported only once!\n",
        "'''\n",
        "#from sklearn.datasets import fetch_california_housing"
      ],
      "metadata": {
        "colab": {
          "base_uri": "https://localhost:8080/",
          "height": 0
        },
        "id": "oK5-pC7e-feR",
        "outputId": "9c904504-ed17-4bf9-9bdf-8de66d482310"
      },
      "execution_count": 19,
      "outputs": [
        {
          "output_type": "execute_result",
          "data": {
            "text/plain": [
              "'\\nNeeds to be imported only once!\\n'"
            ],
            "application/vnd.google.colaboratory.intrinsic+json": {
              "type": "string"
            }
          },
          "metadata": {},
          "execution_count": 19
        }
      ]
    },
    {
      "cell_type": "code",
      "source": [
        "'''\n",
        "We test the code on the California housing Scikit-learn dataset\n",
        "'''\n",
        "# Read and scale data\n",
        "calif_tr     = pd.read_csv('sample_data/california_housing_train.csv')\n",
        "calif_te     = pd.read_csv('sample_data/california_housing_test.csv')\n",
        "calif        = pd.concat([calif_tr, calif_te],ignore_index=True)\n",
        "\n",
        "print(calif.head())\n",
        "print(calif.shape)\n",
        "\n",
        "# Scale data\n",
        "scaler  = preprocessing.MinMaxScaler()\n",
        "X       = scaler.fit_transform(calif.values[:,0:7].astype(np.float32))\n",
        "y       = calif.values[:,8].astype(np.float32)\n",
        "\n",
        "print(X)\n",
        "print(y)\n",
        "\n",
        "# train-test split for model evaluation\n",
        "X_train, X_test, y_train, y_test = train_test_split(X, y, train_size=0.7, shuffle=True)\n",
        "\n",
        "# Convert to 2D PyTorch tensors\n",
        "X_train = torch.tensor(X_train)\n",
        "y_train = torch.tensor(y_train).reshape(-1, 1)\n",
        "X_test  = torch.tensor(X_test)\n",
        "y_test  = torch.tensor(y_test).reshape(-1, 1)"
      ],
      "metadata": {
        "id": "Fm7YskB8ZKeo",
        "colab": {
          "base_uri": "https://localhost:8080/"
        },
        "outputId": "df2b84e3-7779-4c17-c0b0-06789513ebdf"
      },
      "execution_count": 20,
      "outputs": [
        {
          "output_type": "stream",
          "name": "stdout",
          "text": [
            "   longitude  latitude  housing_median_age  total_rooms  total_bedrooms  \\\n",
            "0    -114.31     34.19                15.0       5612.0          1283.0   \n",
            "1    -114.47     34.40                19.0       7650.0          1901.0   \n",
            "2    -114.56     33.69                17.0        720.0           174.0   \n",
            "3    -114.57     33.64                14.0       1501.0           337.0   \n",
            "4    -114.57     33.57                20.0       1454.0           326.0   \n",
            "\n",
            "   population  households  median_income  median_house_value  \n",
            "0      1015.0       472.0         1.4936             66900.0  \n",
            "1      1129.0       463.0         1.8200             80100.0  \n",
            "2       333.0       117.0         1.6509             85700.0  \n",
            "3       515.0       226.0         3.1917             73400.0  \n",
            "4       624.0       262.0         1.9250             65500.0  \n",
            "(20000, 9)\n",
            "[[1.         0.17534518 0.27450982 ... 0.19894476 0.02836402 0.07745437]\n",
            " [0.98406315 0.19766212 0.3529412  ... 0.29484794 0.03155918 0.07597435]\n",
            " [0.97509956 0.12221003 0.3137255  ... 0.02684668 0.00924914 0.01907581]\n",
            " ...\n",
            " [0.46314716 0.39957476 0.1764706  ... 0.03103662 0.01933911 0.03601382]\n",
            " [0.7201185  0.16578078 0.7647059  ... 0.00201738 0.00120519 0.00213781]\n",
            " [0.47011948 0.19978714 0.8039216  ... 0.04065798 0.02102077 0.04259168]]\n",
            "[ 66900.  80100.  85700. ...  62000. 162500. 500001.]\n"
          ]
        }
      ]
    },
    {
      "cell_type": "code",
      "source": [
        "# Hyperparams\n",
        "\n",
        "state_size      = 32\n",
        "epochs          = 100\n",
        "batch_size      = 128\n",
        "my_lr           = 0.001\n",
        "my_momentum     = 0.009\n",
        "out_features    = y_train.shape[1]\n",
        "input_features  = X_train.shape[1]\n",
        "data_size       = X_train.shape[0]\n",
        "test_size       = X_test.shape[0]"
      ],
      "metadata": {
        "id": "aHrWPgjH7gTX"
      },
      "execution_count": 21,
      "outputs": []
    },
    {
      "cell_type": "markdown",
      "source": [
        "#### **Exp1) Experiment with RNN:**"
      ],
      "metadata": {
        "id": "j7cRF5NSKyhk"
      }
    },
    {
      "cell_type": "code",
      "source": [
        "# Monitor training\n",
        "loss_history    = []\n",
        "val_history     = []\n",
        "\n",
        "# Instantiate model\n",
        "model = modVanillaRNN(input_features, state_size, out_features, batch_size)\n",
        "\n",
        "# Train\n",
        "train_variant(model,\n",
        "              X_train=X_train,\n",
        "              X_test=X_test,\n",
        "              y_train=y_train,\n",
        "              y_test=y_test,\n",
        "              val_history=val_history,\n",
        "              loss_history=loss_history,\n",
        "              data_size=data_size,\n",
        "              batch_size=batch_size,\n",
        "              clip_value=100,\n",
        "              my_lr=my_lr,\n",
        "              my_momentum=my_momentum\n",
        ")"
      ],
      "metadata": {
        "id": "I-iK0WdUYfBk",
        "colab": {
          "base_uri": "https://localhost:8080/",
          "height": 326,
          "referenced_widgets": [
            "5e1e00c8877f40978988dff205b4e529",
            "8b79a14d61d74fe9bc2a3e8b6cbaf047",
            "3b1a7c67015e46369471f393389b4c08",
            "a0b9961f9723485ab9663a6c59f01182",
            "6519c29af3ca40fab70082b99d4e0165",
            "d947eae4881e4baeb8b03b0e46d55070",
            "c41f8fa7f7a24cdcb80bded161544528",
            "ba50264994f447acbe33f49f6afcfae5",
            "c7f711c748214773ac95b8220f136278",
            "6091a73c6c134655b96089343745e429",
            "a6e1dba3b8db49c4a42f1f596f32d7c0"
          ]
        },
        "outputId": "31091b9d-ced9-4ed0-ea89-597d48f8d1c2"
      },
      "execution_count": 22,
      "outputs": [
        {
          "output_type": "stream",
          "name": "stdout",
          "text": [
            "--------------------\n",
            "Model and parameters:\n",
            "modVanillaRNN (\n",
            "  (rnn): VanillaRNN(\n",
            "    (i2h): Linear(in_features=7, out_features=32, bias=False)\n",
            "    (h2h): Linear(in_features=32, out_features=32, bias=True)\n",
            "    (h2o): Linear(in_features=32, out_features=32, bias=True)\n",
            "  ), weights=((32, 7), (32, 32), (32,), (32, 32), (32,)), parameters=2336\n",
            "  (output_layer): Linear(in_features=32, out_features=1, bias=True), weights=((1, 32), (1,)), parameters=33\n",
            ")\n",
            "--------------------\n",
            "SGD for 100 epochs, with batch size 128:\n"
          ]
        },
        {
          "output_type": "display_data",
          "data": {
            "text/plain": [
              "  0%|          | 0/100 [00:00<?, ?it/s]"
            ],
            "application/vnd.jupyter.widget-view+json": {
              "version_major": 2,
              "version_minor": 0,
              "model_id": "5e1e00c8877f40978988dff205b4e529"
            }
          },
          "metadata": {}
        },
        {
          "output_type": "stream",
          "name": "stdout",
          "text": [
            "--------------------\n",
            "MSE (best): 12821647360.00\n",
            "RMSE (best): 113232.71\n",
            "--------------------\n"
          ]
        }
      ]
    },
    {
      "cell_type": "code",
      "source": [
        "# Plot learning curve\n",
        "plot_result(loss_history, val_history)"
      ],
      "metadata": {
        "colab": {
          "base_uri": "https://localhost:8080/",
          "height": 472
        },
        "id": "PNMwVoEDYP45",
        "outputId": "2185159c-efb3-4c80-d9fd-babcafb1e9df"
      },
      "execution_count": 23,
      "outputs": [
        {
          "output_type": "display_data",
          "data": {
            "text/plain": [
              "<Figure size 640x480 with 1 Axes>"
            ],
            "image/png": "[encoded data removed]"
          },
          "metadata": {}
        }
      ]
    },
    {
      "cell_type": "markdown",
      "source": [
        "#### **Exp2) Experiment with attention:**"
      ],
      "metadata": {
        "id": "_I5g6tEeiMPX"
      }
    },
    {
      "cell_type": "code",
      "source": [
        "# Monitor training\n",
        "loss_history    = []\n",
        "val_history     = []\n",
        "\n",
        "# Instantiate model\n",
        "model = modSelfAttention(input_features)\n",
        "\n",
        "# Train\n",
        "train_variant(model,\n",
        "              X_train=X_train,\n",
        "              X_test=X_test,\n",
        "              y_train=y_train,\n",
        "              y_test=y_test,\n",
        "              val_history=val_history,\n",
        "              loss_history=loss_history,\n",
        "              data_size=data_size,\n",
        "              batch_size=batch_size,\n",
        "              clip_value=100,\n",
        "              my_lr=my_lr,\n",
        "              my_momentum=my_momentum\n",
        ")"
      ],
      "metadata": {
        "colab": {
          "base_uri": "https://localhost:8080/",
          "referenced_widgets": [
            "db3eb455e85346c5ba3bb0d05bd146ae",
            "160610a0cd20472099fa55285e574bd7",
            "884793d746864ba18aee6b60970684bd",
            "718ebe74acd64d0ea4a661ba89977f34",
            "558499851a68493e866483c787f4f76a",
            "0cd8ebdcd00b481884b8362fc9904124",
            "e6effa4289974d55b0143d7096217c76",
            "d9dc5008e4d04d60ac9949fe70cb24c6",
            "bb429d4941b740919fb7bed1e0b94c37",
            "09ccdceaf05f4d0d888f1b13cd416f8b",
            "6caa2eb1915840a18b63bf7860298f79"
          ],
          "height": 326
        },
        "id": "kGNyuZrV8ML2",
        "outputId": "40ddb47f-4bba-4a0a-8124-3c1d90f49d96"
      },
      "execution_count": 24,
      "outputs": [
        {
          "output_type": "stream",
          "name": "stdout",
          "text": [
            "--------------------\n",
            "Model and parameters:\n",
            "modSelfAttention (\n",
            "  (rnn): SelfAttention(\n",
            "    (query): Linear(in_features=7, out_features=7, bias=True)\n",
            "    (key): Linear(in_features=7, out_features=7, bias=True)\n",
            "    (value): Linear(in_features=7, out_features=7, bias=True)\n",
            "  ), weights=((7, 7), (7,), (7, 7), (7,), (7, 7), (7,)), parameters=168\n",
            "  (output_layer): Linear(in_features=7, out_features=1, bias=True), weights=((1, 7), (1,)), parameters=8\n",
            ")\n",
            "--------------------\n",
            "SGD for 100 epochs, with batch size 128:\n"
          ]
        },
        {
          "output_type": "display_data",
          "data": {
            "text/plain": [
              "  0%|          | 0/100 [00:00<?, ?it/s]"
            ],
            "application/vnd.jupyter.widget-view+json": {
              "version_major": 2,
              "version_minor": 0,
              "model_id": "db3eb455e85346c5ba3bb0d05bd146ae"
            }
          },
          "metadata": {}
        },
        {
          "output_type": "stream",
          "name": "stdout",
          "text": [
            "--------------------\n",
            "MSE (best): 13627731968.00\n",
            "RMSE (best): 116737.88\n",
            "--------------------\n"
          ]
        }
      ]
    },
    {
      "cell_type": "code",
      "source": [
        "# Plot learning curve\n",
        "plot_result(loss_history, val_history)"
      ],
      "metadata": {
        "id": "4lI2ziOeaYd3",
        "colab": {
          "base_uri": "https://localhost:8080/",
          "height": 472
        },
        "outputId": "d44ba147-4969-4748-e7d9-c064840f29da"
      },
      "execution_count": 25,
      "outputs": [
        {
          "output_type": "display_data",
          "data": {
            "text/plain": [
              "<Figure size 640x480 with 1 Axes>"
            ],
            "image/png": "[encoded data removed]"
          },
          "metadata": {}
        }
      ]
    },
    {
      "cell_type": "markdown",
      "source": [
        "#### **Exp 3) Experiment with custom linear model:**"
      ],
      "metadata": {
        "id": "hrjXw8kxo6bE"
      }
    },
    {
      "cell_type": "code",
      "source": [
        "# Instantiate model\n",
        "model = modLinear(input_features, state_size, out_features)"
      ],
      "metadata": {
        "id": "SPpdEh4TQZXm"
      },
      "execution_count": 27,
      "outputs": []
    },
    {
      "cell_type": "code",
      "source": [
        "# Monitor training\n",
        "loss_history    = []\n",
        "val_history     = []\n",
        "\n",
        "# Train\n",
        "train_variant(model,\n",
        "              X_train=X_train,\n",
        "              X_test=X_test,\n",
        "              y_train=y_train,\n",
        "              y_test=y_test,\n",
        "              val_history=val_history,\n",
        "              loss_history=loss_history,\n",
        "              data_size=data_size,\n",
        "              batch_size=batch_size,\n",
        "              clip_value=0,             # batch normalization and gradient clipping don't seem to intreact very well!\n",
        "              my_lr=my_lr,\n",
        "              my_momentum=my_momentum\n",
        ")"
      ],
      "metadata": {
        "colab": {
          "base_uri": "https://localhost:8080/",
          "height": 292,
          "referenced_widgets": [
            "efd383a26f6d4b2cab6ad90c54f11331",
            "98b5143adde041bc91625652e8bbfde2",
            "50a1162b343440f9856a418f98d5860d",
            "254b76849ad64e3081a3cd5ac380dac0",
            "1f26dbe1be834e328182e40c3cdc8879",
            "0e880aa117234f14a2d8124d82acb587",
            "d77f792f27d548b0a773d5f827638db0",
            "bd27eba859a2497d9acfffd23d05998d",
            "3aee84c44313483f9036bd6fa6b39465",
            "86847fac770f4550b5d74d785967ac15",
            "3f4134311d8b427c96b9f532281a8a56"
          ]
        },
        "id": "DoYOtc7To4iA",
        "outputId": "9f3efe4a-d1ad-4f7e-9a9c-b60c65f59eb1"
      },
      "execution_count": 28,
      "outputs": [
        {
          "output_type": "stream",
          "name": "stdout",
          "text": [
            "--------------------\n",
            "Model and parameters:\n",
            "modLinear (\n",
            "  (lnn1): VanillaLinear(), weights=((7, 32), (32,)), parameters=256\n",
            "  (lnn1_bn): BatchNorm1d(32, eps=1e-05, momentum=0.1, affine=True, track_running_stats=True), weights=((32,), (32,)), parameters=64\n",
            "  (lnn2): VanillaLinear(), weights=((32, 1), (1,)), parameters=33\n",
            "  (lnn2_bn): BatchNorm1d(1, eps=1e-05, momentum=0.1, affine=True, track_running_stats=True), weights=((1,), (1,)), parameters=2\n",
            ")\n",
            "--------------------\n",
            "SGD for 100 epochs, with batch size 128:\n"
          ]
        },
        {
          "output_type": "display_data",
          "data": {
            "text/plain": [
              "  0%|          | 0/100 [00:00<?, ?it/s]"
            ],
            "application/vnd.jupyter.widget-view+json": {
              "version_major": 2,
              "version_minor": 0,
              "model_id": "efd383a26f6d4b2cab6ad90c54f11331"
            }
          },
          "metadata": {}
        },
        {
          "output_type": "stream",
          "name": "stdout",
          "text": [
            "--------------------\n",
            "MSE (best): 7909536768.00\n",
            "RMSE (best): 88935.58\n",
            "--------------------\n"
          ]
        }
      ]
    },
    {
      "cell_type": "code",
      "source": [
        "# Plot learning curve\n",
        "plot_result(loss_history, val_history)"
      ],
      "metadata": {
        "id": "GW3X1SmapLrg",
        "colab": {
          "base_uri": "https://localhost:8080/",
          "height": 472
        },
        "outputId": "7d1f3e5a-3a3f-4d10-db58-55b617667c99"
      },
      "execution_count": 29,
      "outputs": [
        {
          "output_type": "display_data",
          "data": {
            "text/plain": [
              "<Figure size 640x480 with 1 Axes>"
            ],
            "image/png": "[encoded data removed]"
          },
          "metadata": {}
        }
      ]
    },
    {
      "cell_type": "markdown",
      "source": [
        "#### **Exp 4) Experiment with GRU:**"
      ],
      "metadata": {
        "id": "-BuCl8PCSvOb"
      }
    },
    {
      "cell_type": "code",
      "source": [
        "# Monitor training\n",
        "loss_history    = []\n",
        "val_history     = []\n",
        "\n",
        "# Instantiate model\n",
        "model = modVanillaGRU(input_features, state_size, out_features, batch_size)\n",
        "\n",
        "# Train\n",
        "train_variant(model,\n",
        "              X_train=X_train,\n",
        "              X_test=X_test,\n",
        "              y_train=y_train,\n",
        "              y_test=y_test,\n",
        "              val_history=val_history,\n",
        "              loss_history=loss_history,\n",
        "              data_size=data_size,\n",
        "              batch_size=batch_size,\n",
        "              clip_value=10000,\n",
        "              my_lr=my_lr,\n",
        "              my_momentum=my_momentum\n",
        ")"
      ],
      "metadata": {
        "id": "621iXq4wS0Vx",
        "colab": {
          "base_uri": "https://localhost:8080/",
          "height": 309,
          "referenced_widgets": [
            "eaec78f38d1c49cc8214d41ca51428e0",
            "2504333dbfe742a6a6bb7d94aad66028",
            "8d51014984444cb6a9bf75f8086babf9",
            "ba1ecc51d5bf4ea0bb218b9f8433ede8",
            "d92ca1c02ed44d2b92184279568a78ec",
            "cb33247f016f47ebad1e910e6993bf27",
            "988822bfecfb48b09ccc5e0a6f1c67e5",
            "567c25a320ab417b957fa491f88ab3c7",
            "5b3cc028b1744b22ba6002143214afc7",
            "f3feecd99faa43939becb965cf445a56",
            "40772d6cdb364acbb4c3a339401a4a98"
          ]
        },
        "outputId": "8716b68b-ca9e-4e6b-f979-b7b1dceb7697"
      },
      "execution_count": 31,
      "outputs": [
        {
          "output_type": "stream",
          "name": "stdout",
          "text": [
            "--------------------\n",
            "Model and parameters:\n",
            "modVanillaGRU (\n",
            "  (rnn): VanillaGRU(\n",
            "    (x2h): Linear(in_features=7, out_features=96, bias=True)\n",
            "    (h2h): Linear(in_features=32, out_features=96, bias=True)\n",
            "  ), weights=((96, 7), (96,), (96, 32), (96,)), parameters=3936\n",
            "  (output_layer): Linear(in_features=32, out_features=1, bias=True), weights=((1, 32), (1,)), parameters=33\n",
            ")\n",
            "--------------------\n",
            "SGD for 100 epochs, with batch size 128:\n"
          ]
        },
        {
          "output_type": "display_data",
          "data": {
            "text/plain": [
              "  0%|          | 0/100 [00:00<?, ?it/s]"
            ],
            "application/vnd.jupyter.widget-view+json": {
              "version_major": 2,
              "version_minor": 0,
              "model_id": "eaec78f38d1c49cc8214d41ca51428e0"
            }
          },
          "metadata": {}
        },
        {
          "output_type": "stream",
          "name": "stdout",
          "text": [
            "--------------------\n",
            "MSE (best): 13950534656.00\n",
            "RMSE (best): 118112.38\n",
            "--------------------\n"
          ]
        }
      ]
    },
    {
      "cell_type": "code",
      "source": [
        "# Plot learning curve\n",
        "plot_result(loss_history, val_history)"
      ],
      "metadata": {
        "id": "_Y7KakCHS0qW",
        "colab": {
          "base_uri": "https://localhost:8080/",
          "height": 472
        },
        "outputId": "1282d4d8-617c-4be5-e95f-65e15ff5e69e"
      },
      "execution_count": 32,
      "outputs": [
        {
          "output_type": "display_data",
          "data": {
            "text/plain": [
              "<Figure size 640x480 with 1 Axes>"
            ],
            "image/png": "[encoded data removed]"
          },
          "metadata": {}
        }
      ]
    }
  ]
}